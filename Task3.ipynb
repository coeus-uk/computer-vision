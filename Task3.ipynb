{
 "cells": [
  {
   "cell_type": "markdown",
   "metadata": {},
   "source": [
    "# Task 3 - Feature Matching using SIFT\n",
    "\n",
    "Write a function which takes an image from the same dataset for training\n",
    "and testing as in the previous task.\n",
    "\n",
    "**Main steps:**\n",
    "1. You first extract keypoints and feature descriptors from your\n",
    "Test and Train images using standard SIFT or SURF feature extraction\n",
    "function from a library.\n",
    "2. Then you match features between images which will give you the raw noisy matches (correspondences).\n",
    "3. Now you should decide which geometric transform to use to reject the outliers. (using RANSAC)\n",
    "4. Finally, you will\n",
    "define a score on the obtained inlier matches and will use this to detect the\n",
    "objects (icons) scoring high for a given Test image. A basic score is counting\n",
    "the inlier matches.\n",
    "\n",
    "**Output:**\n",
    "\n",
    "Detect objects in the Test images using SIFT or equivalent features (such as SURF), recognize to which class they belong, and identify\n",
    "their scales and orientations. Similar as Task2, for visual demonstration the\n",
    "function should open a box around each detected object and indicate its class\n",
    "label. This box is scaled and rotated according to the object’s scale and orientation. Demonstrate example images(s) of the outcome detection in your report. Besides, demonstrate example images(s) that shows the feature-based\n",
    "matches established between the recognised objects and a Test image, before\n",
    "and after the outlier refinement step.\n",
    "\n",
    "**Evaluation:**\n",
    "\n",
    "Evaluate your algorithm on all Test images to report the overall Intersection over Union (IoU), False Positive (FPR), True Positive (TPR) and\n",
    "Accuracy (ACC) rates, as well as the average runtime. Refer to the following report http://host.robots.ox.ac.uk/pascal/VOC/voc2012/devkit_\n",
    "doc.pdf section 4.4 for further information about the evaluation metrics.\n",
    "Show and explain cases where this scheme finds difficulty to perform correctly. Compare the SIFT/SURF results to that of Task2 algorithm e.g.,\n",
    "does it improve the overall speed or accuracy? How much? Why?\n",
    "\n",
    "**Hyperparameter tuning:**\n",
    "\n",
    "Similarly, you will have some hyper-parameters to tune. This includes the\n",
    "number of Octaves and the (within-octave) Scalelevels within SIFT to build\n",
    "scale-spaces for keypoint detection, and the MaxRatio parameter within the\n",
    "matchFeatures function to reject weak matches. How are these parameters\n",
    "set for this task? Show quantitatively why.\n",
    "\n",
    "**Notes:**\n",
    "\n",
    "For task 2 and task 3, you are allowed to use library functions for creating the pyramid or using Gaussian convolution. You are also allowed to use the library functions for extracting features, for e.g. extracting SIFT features. You are allowed to use math libraries, for instance svd functions for computing the homography.\n",
    "\n",
    "You are *not* allowed to use the `cv2.matchTemplate` or `cv2.BFMatcher`.\n",
    "- Basically functions for matching features need to be coded. \n",
    "- You would need to implement RANSAC also yourself."
   ]
  },
  {
   "cell_type": "markdown",
   "metadata": {},
   "source": [
    "### Imports & Constants"
   ]
  },
  {
   "cell_type": "code",
   "execution_count": 47,
   "metadata": {},
   "outputs": [
    {
     "name": "stdout",
     "output_type": "stream",
     "text": [
      "The autoreload extension is already loaded. To reload it, use:\n",
      "  %reload_ext autoreload\n"
     ]
    }
   ],
   "source": [
    "%load_ext autoreload\n",
    "%autoreload 2\n",
    "\n",
    "import task3\n",
    "import logging\n",
    "import cv2 as cv\n",
    "import pandas as pd\n",
    "import numpy as np\n",
    "from typing import Dict, Tuple\n",
    "\n",
    "from pathlib import Path\n",
    "from task3 import ImageDataset, ObjectDetector, Verbosity, TutorialObjectDetector\n",
    "\n",
    "QUERY_IMG_DIR = Path(\"IconDataset\", \"png\")\n",
    "TEST_IMG_DIR = Path(\"Task3Dataset\", \"images\")\n",
    "\n",
    "ANNOTATIONS_DIR = Path(\"Task3Dataset\", \"annotations\")\n",
    "\n",
    "# Configure basic logging\n",
    "logging.basicConfig(level=logging.INFO, format='[%(asctime)s]::[%(levelname)s] %(message)s')\n",
    "logger = logging.getLogger(__name__)"
   ]
  },
  {
   "cell_type": "markdown",
   "metadata": {},
   "source": [
    "### Run detection pipeline on dataset"
   ]
  },
  {
   "cell_type": "code",
   "execution_count": 48,
   "metadata": {},
   "outputs": [],
   "source": [
    "def detect_on_dataset(\n",
    "        test_imgs: ImageDataset, \n",
    "        query_imgs: ImageDataset, \n",
    "        sift_hps: Dict = {},\n",
    "        ransac_hps: Dict = {},\n",
    "        lowe_threshold: float = 0.7,\n",
    "        min_match_count: int = 10, \n",
    "        verbose: Verbosity = Verbosity.MEDIUM\n",
    "    ) -> Tuple[float, ...]:\n",
    "\n",
    "    acc_lst, tpr_list, fpr_lst, fnr_lst = [], [], [], []\n",
    "    detector = ObjectDetector(query_imgs, sift_hps, verbose=False, ransac_hyperparams=ransac_hps)\n",
    "\n",
    "    # Iterate through each test image and detect objects in it. Compare these detctions to the ground truth annotations.\n",
    "    for img, img_path in test_imgs:\n",
    "        annotations_path = ANNOTATIONS_DIR / img_path.with_suffix(\".csv\").name\n",
    "        img_annotations = pd.read_csv(annotations_path)\n",
    "\n",
    "        print(\"\\n\", flush=True); logger.info(f\"Detecting objects in {img_path.stem}\")\n",
    "        detections = detector.detect(img, lowe_threshold, min_match_count, draw=False)\n",
    "\n",
    "        acc, tpr, fpr, fnr = task3.evaluate_detections(detections, img_annotations)\n",
    "        acc_lst.append(acc); tpr_list.append(tpr); fpr_lst.append(fpr); fnr_lst.append(fnr)\n",
    "\n",
    "    return np.mean(acc_lst), np.mean(tpr_list), np.mean(fpr_lst), np.mean(fnr_lst)"
   ]
  },
  {
   "cell_type": "code",
   "execution_count": null,
   "metadata": {},
   "outputs": [],
   "source": [
    "test_images = ImageDataset(TEST_IMG_DIR, file_ext=\"png\")\n",
    "query_images = ImageDataset(QUERY_IMG_DIR, file_ext=\"png\")\n",
    "\n",
    "acc, tpr, fpr, fnr = detect_on_dataset(test_images, query_images)\n",
    "print(acc, tpr, fpr, fnr)"
   ]
  },
  {
   "cell_type": "markdown",
   "metadata": {},
   "source": [
    "Mine: 0.5850000000000001 0.7416666666666666 0.2764285714285714 0.25833333333333336\n",
    "\n",
    "Tutorial w/ my matcher: 0.6775 0.7575 0.12666666666666665 0.2425"
   ]
  },
  {
   "cell_type": "markdown",
   "metadata": {},
   "source": [
    "### Hyperparameter Optimisation\n",
    "\n",
    "We'll use the following objective function to measure performance over a range of hyperparameters for `SIFT`, `RANSAC`, Lowe's Test, and minimum match counts. Then, using Bayesian optimisation, we'll minimise the function, hence we use '-accuracy'."
   ]
  },
  {
   "cell_type": "code",
   "execution_count": 50,
   "metadata": {},
   "outputs": [],
   "source": [
    "init_params = [\n",
    "    128, \n",
    "    5,\n",
    "    0.01,\n",
    "    0.1,\n",
    "    3,\n",
    "    5.0,\n",
    "    4,\n",
    "    0,\n",
    "    0.7,\n",
    "    10,\n",
    "]"
   ]
  },
  {
   "cell_type": "code",
   "execution_count": 51,
   "metadata": {},
   "outputs": [
    {
     "data": {
      "application/vnd.jupyter.widget-view+json": {
       "model_id": "f1fa9dc7f27d4f99a00b91a6f0145517",
       "version_major": 2,
       "version_minor": 0
      },
      "text/plain": [
       "  0%|          | 0/75 [00:00<?, ?it/s]"
      ]
     },
     "metadata": {},
     "output_type": "display_data"
    },
    {
     "name": "stdout",
     "output_type": "stream",
     "text": [
      "\n",
      "\n"
     ]
    },
    {
     "name": "stderr",
     "output_type": "stream",
     "text": [
      "[2024-04-21 15:23:52,412]::[INFO] Detecting objects in test_image_16\n",
      "[2024-04-21 15:23:52,736]::[INFO] Query image IconDataset/png/041-windmill.png yields enough good matches - 19/10. Finding transform...\n",
      "[2024-04-21 15:23:53,136]::[INFO] Query image IconDataset/png/026-shop.png yields enough good matches - 12/10. Finding transform...\n",
      "[2024-04-21 15:23:54,449]::[INFO] Query image IconDataset/png/048-hospital.png yields enough good matches - 13/10. Finding transform...\n",
      "[2024-04-21 15:23:54,531]::[INFO] Query image IconDataset/png/024-fountain.png yields enough good matches - 17/10. Finding transform...\n",
      "[2024-04-21 15:23:55,180]::[INFO] Query image IconDataset/png/003-bridge-1.png yields enough good matches - 13/10. Finding transform...\n",
      "[2024-04-21 15:23:55,527]::[INFO] Query image IconDataset/png/044-ferris-wheel.png yields enough good matches - 12/10. Finding transform...\n",
      "[2024-04-21 15:23:55,694]::[INFO] Query image IconDataset/png/030-telephone-booth.png yields enough good matches - 15/10. Finding transform...\n"
     ]
    },
    {
     "name": "stdout",
     "output_type": "stream",
     "text": [
      "\n",
      "\n"
     ]
    },
    {
     "name": "stderr",
     "output_type": "stream",
     "text": [
      "[2024-04-21 15:23:56,537]::[INFO] Detecting objects in test_image_19\n",
      "[2024-04-21 15:23:58,233]::[INFO] Query image IconDataset/png/015-barn.png yields enough good matches - 36/10. Finding transform...\n",
      "[2024-04-21 15:23:59,105]::[INFO] Query image IconDataset/png/021-solar-panel.png yields enough good matches - 10/10. Finding transform...\n",
      "[2024-04-21 15:23:59,944]::[INFO] Query image IconDataset/png/046-fire-station.png yields enough good matches - 17/10. Finding transform...\n"
     ]
    },
    {
     "name": "stdout",
     "output_type": "stream",
     "text": [
      "\n",
      "\n"
     ]
    },
    {
     "name": "stderr",
     "output_type": "stream",
     "text": [
      "[2024-04-21 15:24:00,167]::[INFO] Detecting objects in test_image_18\n",
      "[2024-04-21 15:24:00,656]::[INFO] Query image IconDataset/png/037-post-office.png yields enough good matches - 20/10. Finding transform...\n",
      "[2024-04-21 15:24:00,811]::[INFO] Query image IconDataset/png/040-bus-stop.png yields enough good matches - 13/10. Finding transform...\n"
     ]
    },
    {
     "name": "stdout",
     "output_type": "stream",
     "text": [
      "\n",
      "\n"
     ]
    },
    {
     "name": "stderr",
     "output_type": "stream",
     "text": [
      "[2024-04-21 15:24:04,413]::[INFO] Detecting objects in test_image_12\n",
      "[2024-04-21 15:24:06,162]::[INFO] Query image IconDataset/png/022-car.png yields enough good matches - 17/10. Finding transform...\n",
      "[2024-04-21 15:24:06,259]::[INFO] Query image IconDataset/png/015-barn.png yields enough good matches - 28/10. Finding transform...\n",
      "[2024-04-21 15:24:06,574]::[INFO] Query image IconDataset/png/027-gas-station.png yields enough good matches - 12/10. Finding transform...\n"
     ]
    },
    {
     "name": "stdout",
     "output_type": "stream",
     "text": [
      "\n",
      "\n"
     ]
    },
    {
     "name": "stderr",
     "output_type": "stream",
     "text": [
      "[2024-04-21 15:24:08,321]::[INFO] Detecting objects in test_image_3\n",
      "[2024-04-21 15:24:08,803]::[INFO] Query image IconDataset/png/037-post-office.png yields enough good matches - 12/10. Finding transform...\n",
      "[2024-04-21 15:24:11,295]::[INFO] Query image IconDataset/png/021-solar-panel.png yields enough good matches - 34/10. Finding transform...\n",
      "[2024-04-21 15:24:11,372]::[INFO] Query image IconDataset/png/016-house.png yields enough good matches - 13/10. Finding transform...\n",
      "[2024-04-21 15:24:11,676]::[INFO] Query image IconDataset/png/030-telephone-booth.png yields enough good matches - 10/10. Finding transform...\n",
      "[2024-04-21 15:24:12,365]::[INFO] Query image IconDataset/png/045-museum.png yields enough good matches - 10/10. Finding transform...\n"
     ]
    },
    {
     "name": "stdout",
     "output_type": "stream",
     "text": [
      "\n",
      "\n"
     ]
    },
    {
     "name": "stderr",
     "output_type": "stream",
     "text": [
      "[2024-04-21 15:24:12,537]::[INFO] Detecting objects in test_image_4\n",
      "[2024-04-21 15:24:13,235]::[INFO] Query image IconDataset/png/026-shop.png yields enough good matches - 15/10. Finding transform...\n"
     ]
    },
    {
     "name": "stdout",
     "output_type": "stream",
     "text": [
      "\n",
      "\n"
     ]
    },
    {
     "name": "stderr",
     "output_type": "stream",
     "text": [
      "[2024-04-21 15:24:16,495]::[INFO] Detecting objects in test_image_13\n",
      "[2024-04-21 15:24:19,501]::[INFO] Query image IconDataset/png/021-solar-panel.png yields enough good matches - 48/10. Finding transform...\n"
     ]
    },
    {
     "name": "stdout",
     "output_type": "stream",
     "text": [
      "\n",
      "\n"
     ]
    },
    {
     "name": "stderr",
     "output_type": "stream",
     "text": [
      "[2024-04-21 15:24:20,701]::[INFO] Detecting objects in test_image_6\n",
      "[2024-04-21 15:24:21,023]::[INFO] Query image IconDataset/png/041-windmill.png yields enough good matches - 17/10. Finding transform...\n",
      "[2024-04-21 15:24:23,355]::[INFO] Query image IconDataset/png/038-library.png yields enough good matches - 10/10. Finding transform...\n",
      "[2024-04-21 15:24:23,653]::[INFO] Query image IconDataset/png/034-billboard.png yields enough good matches - 10/10. Finding transform...\n",
      "[2024-04-21 15:24:24,248]::[INFO] Query image IconDataset/png/039-university.png yields enough good matches - 11/10. Finding transform...\n",
      "[2024-04-21 15:24:24,640]::[INFO] Query image IconDataset/png/005-silo.png yields enough good matches - 27/10. Finding transform...\n"
     ]
    },
    {
     "name": "stdout",
     "output_type": "stream",
     "text": [
      "\n",
      "\n"
     ]
    },
    {
     "name": "stderr",
     "output_type": "stream",
     "text": [
      "[2024-04-21 15:24:24,974]::[INFO] Detecting objects in test_image_17\n",
      "[2024-04-21 15:24:26,554]::[INFO] Query image IconDataset/png/013-water-well.png yields enough good matches - 24/10. Finding transform...\n"
     ]
    },
    {
     "name": "stdout",
     "output_type": "stream",
     "text": [
      "\n",
      "\n"
     ]
    },
    {
     "name": "stderr",
     "output_type": "stream",
     "text": [
      "[2024-04-21 15:24:28,811]::[INFO] Detecting objects in test_image_2\n",
      "[2024-04-21 15:24:30,025]::[INFO] Query image IconDataset/png/008-courthouse.png yields enough good matches - 10/10. Finding transform...\n",
      "[2024-04-21 15:24:32,501]::[INFO] Query image IconDataset/png/001-lighthouse.png yields enough good matches - 25/10. Finding transform...\n"
     ]
    },
    {
     "name": "stdout",
     "output_type": "stream",
     "text": [
      "\n",
      "\n"
     ]
    },
    {
     "name": "stderr",
     "output_type": "stream",
     "text": [
      "[2024-04-21 15:24:32,994]::[INFO] Detecting objects in test_image_5\n",
      "[2024-04-21 15:24:33,311]::[INFO] Query image IconDataset/png/041-windmill.png yields enough good matches - 32/10. Finding transform...\n"
     ]
    },
    {
     "name": "stdout",
     "output_type": "stream",
     "text": [
      "\n",
      "\n"
     ]
    },
    {
     "name": "stderr",
     "output_type": "stream",
     "text": [
      "[2024-04-21 15:24:37,193]::[INFO] Detecting objects in test_image_15\n",
      "[2024-04-21 15:24:38,478]::[INFO] Query image IconDataset/png/007-supermarket.png yields enough good matches - 25/10. Finding transform...\n",
      "[2024-04-21 15:24:40,514]::[INFO] Query image IconDataset/png/030-telephone-booth.png yields enough good matches - 23/10. Finding transform...\n"
     ]
    },
    {
     "name": "stdout",
     "output_type": "stream",
     "text": [
      "\n",
      "\n"
     ]
    },
    {
     "name": "stderr",
     "output_type": "stream",
     "text": [
      "[2024-04-21 15:24:41,377]::[INFO] Detecting objects in test_image_9\n",
      "[2024-04-21 15:24:43,894]::[INFO] Query image IconDataset/png/021-solar-panel.png yields enough good matches - 12/10. Finding transform...\n",
      "[2024-04-21 15:24:44,100]::[INFO] Query image IconDataset/png/050-cemetery.png yields enough good matches - 11/10. Finding transform...\n",
      "[2024-04-21 15:24:44,785]::[INFO] Query image IconDataset/png/045-museum.png yields enough good matches - 12/10. Finding transform...\n"
     ]
    },
    {
     "name": "stdout",
     "output_type": "stream",
     "text": [
      "\n",
      "\n"
     ]
    },
    {
     "name": "stderr",
     "output_type": "stream",
     "text": [
      "[2024-04-21 15:24:44,932]::[INFO] Detecting objects in test_image_1\n",
      "[2024-04-21 15:24:46,892]::[INFO] Query image IconDataset/png/048-hospital.png yields enough good matches - 17/10. Finding transform...\n"
     ]
    },
    {
     "name": "stdout",
     "output_type": "stream",
     "text": [
      "\n",
      "\n"
     ]
    },
    {
     "name": "stderr",
     "output_type": "stream",
     "text": [
      "[2024-04-21 15:24:48,920]::[INFO] Detecting objects in test_image_10\n",
      "[2024-04-21 15:24:49,411]::[INFO] Query image IconDataset/png/037-post-office.png yields enough good matches - 11/10. Finding transform...\n",
      "[2024-04-21 15:24:51,194]::[INFO] Query image IconDataset/png/035-police.png yields enough good matches - 26/10. Finding transform...\n",
      "[2024-04-21 15:24:52,663]::[INFO] Query image IconDataset/png/001-lighthouse.png yields enough good matches - 13/10. Finding transform...\n"
     ]
    },
    {
     "name": "stdout",
     "output_type": "stream",
     "text": [
      "\n",
      "\n"
     ]
    },
    {
     "name": "stderr",
     "output_type": "stream",
     "text": [
      "[2024-04-21 15:24:53,159]::[INFO] Detecting objects in test_image_14\n",
      "[2024-04-21 15:24:55,576]::[INFO] Query image IconDataset/png/020-atm.png yields enough good matches - 11/10. Finding transform...\n",
      "[2024-04-21 15:24:56,327]::[INFO] Query image IconDataset/png/030-telephone-booth.png yields enough good matches - 20/10. Finding transform...\n"
     ]
    },
    {
     "name": "stdout",
     "output_type": "stream",
     "text": [
      "\n",
      "\n"
     ]
    },
    {
     "name": "stderr",
     "output_type": "stream",
     "text": [
      "[2024-04-21 15:24:57,158]::[INFO] Detecting objects in test_image_11\n",
      "[2024-04-21 15:24:57,969]::[INFO] Query image IconDataset/png/012-bus.png yields enough good matches - 34/10. Finding transform...\n",
      "[2024-04-21 15:24:58,464]::[INFO] Query image IconDataset/png/007-supermarket.png yields enough good matches - 10/10. Finding transform...\n"
     ]
    },
    {
     "name": "stdout",
     "output_type": "stream",
     "text": [
      "\n",
      "\n"
     ]
    },
    {
     "name": "stderr",
     "output_type": "stream",
     "text": [
      "[2024-04-21 15:25:01,382]::[INFO] Detecting objects in test_image_20\n",
      "[2024-04-21 15:25:01,703]::[INFO] Query image IconDataset/png/041-windmill.png yields enough good matches - 17/10. Finding transform...\n",
      "[2024-04-21 15:25:04,110]::[INFO] Query image IconDataset/png/018-bank.png yields enough good matches - 21/10. Finding transform...\n",
      "[2024-04-21 15:25:04,730]::[INFO] Query image IconDataset/png/030-telephone-booth.png yields enough good matches - 10/10. Finding transform...\n",
      "[2024-04-21 15:25:05,268]::[INFO] Query image IconDataset/png/005-silo.png yields enough good matches - 27/10. Finding transform...\n"
     ]
    },
    {
     "name": "stdout",
     "output_type": "stream",
     "text": [
      "\n",
      "\n"
     ]
    },
    {
     "name": "stderr",
     "output_type": "stream",
     "text": [
      "[2024-04-21 15:25:05,601]::[INFO] Detecting objects in test_image_7\n",
      "[2024-04-21 15:25:07,597]::[INFO] Query image IconDataset/png/015-barn.png yields enough good matches - 11/10. Finding transform...\n",
      "[2024-04-21 15:25:07,935]::[INFO] Query image IconDataset/png/027-gas-station.png yields enough good matches - 21/10. Finding transform...\n",
      "[2024-04-21 15:25:08,332]::[INFO] Query image IconDataset/png/018-bank.png yields enough good matches - 21/10. Finding transform...\n",
      "[2024-04-21 15:25:08,622]::[INFO] Query image IconDataset/png/021-solar-panel.png yields enough good matches - 15/10. Finding transform...\n",
      "[2024-04-21 15:25:09,412]::[INFO] Query image IconDataset/png/014-flower.png yields enough good matches - 12/10. Finding transform...\n"
     ]
    },
    {
     "name": "stdout",
     "output_type": "stream",
     "text": [
      "\n",
      "\n"
     ]
    },
    {
     "name": "stderr",
     "output_type": "stream",
     "text": [
      "[2024-04-21 15:25:09,832]::[INFO] Detecting objects in test_image_8\n",
      "[2024-04-21 15:25:10,155]::[INFO] Query image IconDataset/png/041-windmill.png yields enough good matches - 25/10. Finding transform...\n",
      "[2024-04-21 15:25:10,325]::[INFO] Query image IconDataset/png/037-post-office.png yields enough good matches - 17/10. Finding transform...\n"
     ]
    },
    {
     "name": "stdout",
     "output_type": "stream",
     "text": [
      "\n",
      "\n"
     ]
    },
    {
     "name": "stderr",
     "output_type": "stream",
     "text": [
      "[2024-04-21 15:25:14,078]::[INFO] Detecting objects in test_image_16\n",
      "[2024-04-21 15:25:14,250]::[INFO] Query image IconDataset/png/009-airport.png yields enough good matches - 56/41. Finding transform...\n",
      "[2024-04-21 15:28:41,386]::[INFO] Query image IconDataset/png/033-hydrant.png yields enough good matches - 54/41. Finding transform...\n",
      "[2024-04-21 15:39:09,809]::[INFO] Query image IconDataset/png/041-windmill.png yields enough good matches - 119/41. Finding transform...\n",
      "[2024-04-21 15:39:19,814]::[INFO] Query image IconDataset/png/025-factory.png yields enough good matches - 47/41. Finding transform...\n",
      "[2024-04-21 15:41:03,395]::[INFO] Query image IconDataset/png/037-post-office.png yields enough good matches - 63/41. Finding transform...\n",
      "[2024-04-21 15:57:07,276]::[INFO] Query image IconDataset/png/040-bus-stop.png yields enough good matches - 53/41. Finding transform...\n"
     ]
    },
    {
     "ename": "KeyboardInterrupt",
     "evalue": "",
     "output_type": "error",
     "traceback": [
      "\u001b[0;31m---------------------------------------------------------------------------\u001b[0m",
      "\u001b[0;31mKeyboardInterrupt\u001b[0m                         Traceback (most recent call last)",
      "Cell \u001b[0;32mIn[51], line 95\u001b[0m\n\u001b[1;32m     92\u001b[0m test_images \u001b[38;5;241m=\u001b[39m ImageDataset(TEST_IMG_DIR, file_ext\u001b[38;5;241m=\u001b[39m\u001b[38;5;124m\"\u001b[39m\u001b[38;5;124mpng\u001b[39m\u001b[38;5;124m\"\u001b[39m)\n\u001b[1;32m     93\u001b[0m query_images \u001b[38;5;241m=\u001b[39m ImageDataset(QUERY_IMG_DIR, file_ext\u001b[38;5;241m=\u001b[39m\u001b[38;5;124m\"\u001b[39m\u001b[38;5;124mpng\u001b[39m\u001b[38;5;124m\"\u001b[39m)\n\u001b[0;32m---> 95\u001b[0m result \u001b[38;5;241m=\u001b[39m \u001b[43mgp_minimize\u001b[49m\u001b[43m(\u001b[49m\n\u001b[1;32m     96\u001b[0m \u001b[43m    \u001b[49m\u001b[43mobjective_function\u001b[49m\u001b[43m,\u001b[49m\n\u001b[1;32m     97\u001b[0m \u001b[43m    \u001b[49m\u001b[43mdimensions\u001b[49m\u001b[38;5;241;43m=\u001b[39;49m\u001b[43mspace\u001b[49m\u001b[43m,\u001b[49m\n\u001b[1;32m     98\u001b[0m \u001b[43m    \u001b[49m\u001b[43mn_calls\u001b[49m\u001b[38;5;241;43m=\u001b[39;49m\u001b[43mITERATIONS\u001b[49m\u001b[43m,\u001b[49m\n\u001b[1;32m     99\u001b[0m \u001b[43m    \u001b[49m\u001b[43mrandom_state\u001b[49m\u001b[38;5;241;43m=\u001b[39;49m\u001b[38;5;241;43m41\u001b[39;49m\u001b[43m,\u001b[49m\n\u001b[1;32m    100\u001b[0m \u001b[43m    \u001b[49m\u001b[43mx0\u001b[49m\u001b[38;5;241;43m=\u001b[39;49m\u001b[43m[\u001b[49m\u001b[43minit_params\u001b[49m\u001b[43m]\u001b[49m\u001b[43m,\u001b[49m\n\u001b[1;32m    101\u001b[0m \u001b[43m    \u001b[49m\u001b[43mcallback\u001b[49m\u001b[38;5;241;43m=\u001b[39;49m\u001b[43m[\u001b[49m\u001b[43mcallback\u001b[49m\u001b[43m]\u001b[49m\n\u001b[1;32m    102\u001b[0m \u001b[43m)\u001b[49m\n\u001b[1;32m    104\u001b[0m tqdm_o\u001b[38;5;241m.\u001b[39mclose()\n",
      "File \u001b[0;32m~/projects/computer_vision/venv/lib/python3.10/site-packages/skopt/optimizer/gp.py:281\u001b[0m, in \u001b[0;36mgp_minimize\u001b[0;34m(func, dimensions, base_estimator, n_calls, n_random_starts, n_initial_points, initial_point_generator, acq_func, acq_optimizer, x0, y0, random_state, verbose, callback, n_points, n_restarts_optimizer, xi, kappa, noise, n_jobs, model_queue_size, space_constraint)\u001b[0m\n\u001b[1;32m    273\u001b[0m \u001b[38;5;28;01mif\u001b[39;00m base_estimator \u001b[38;5;129;01mis\u001b[39;00m \u001b[38;5;28;01mNone\u001b[39;00m:\n\u001b[1;32m    274\u001b[0m     base_estimator \u001b[38;5;241m=\u001b[39m cook_estimator(\n\u001b[1;32m    275\u001b[0m         \u001b[38;5;124m\"\u001b[39m\u001b[38;5;124mGP\u001b[39m\u001b[38;5;124m\"\u001b[39m,\n\u001b[1;32m    276\u001b[0m         space\u001b[38;5;241m=\u001b[39mspace,\n\u001b[1;32m    277\u001b[0m         random_state\u001b[38;5;241m=\u001b[39mrng\u001b[38;5;241m.\u001b[39mrandint(\u001b[38;5;241m0\u001b[39m, np\u001b[38;5;241m.\u001b[39miinfo(np\u001b[38;5;241m.\u001b[39mint32)\u001b[38;5;241m.\u001b[39mmax),\n\u001b[1;32m    278\u001b[0m         noise\u001b[38;5;241m=\u001b[39mnoise,\n\u001b[1;32m    279\u001b[0m     )\n\u001b[0;32m--> 281\u001b[0m \u001b[38;5;28;01mreturn\u001b[39;00m \u001b[43mbase_minimize\u001b[49m\u001b[43m(\u001b[49m\n\u001b[1;32m    282\u001b[0m \u001b[43m    \u001b[49m\u001b[43mfunc\u001b[49m\u001b[43m,\u001b[49m\n\u001b[1;32m    283\u001b[0m \u001b[43m    \u001b[49m\u001b[43mspace\u001b[49m\u001b[43m,\u001b[49m\n\u001b[1;32m    284\u001b[0m \u001b[43m    \u001b[49m\u001b[43mbase_estimator\u001b[49m\u001b[38;5;241;43m=\u001b[39;49m\u001b[43mbase_estimator\u001b[49m\u001b[43m,\u001b[49m\n\u001b[1;32m    285\u001b[0m \u001b[43m    \u001b[49m\u001b[43macq_func\u001b[49m\u001b[38;5;241;43m=\u001b[39;49m\u001b[43macq_func\u001b[49m\u001b[43m,\u001b[49m\n\u001b[1;32m    286\u001b[0m \u001b[43m    \u001b[49m\u001b[43mxi\u001b[49m\u001b[38;5;241;43m=\u001b[39;49m\u001b[43mxi\u001b[49m\u001b[43m,\u001b[49m\n\u001b[1;32m    287\u001b[0m \u001b[43m    \u001b[49m\u001b[43mkappa\u001b[49m\u001b[38;5;241;43m=\u001b[39;49m\u001b[43mkappa\u001b[49m\u001b[43m,\u001b[49m\n\u001b[1;32m    288\u001b[0m \u001b[43m    \u001b[49m\u001b[43macq_optimizer\u001b[49m\u001b[38;5;241;43m=\u001b[39;49m\u001b[43macq_optimizer\u001b[49m\u001b[43m,\u001b[49m\n\u001b[1;32m    289\u001b[0m \u001b[43m    \u001b[49m\u001b[43mn_calls\u001b[49m\u001b[38;5;241;43m=\u001b[39;49m\u001b[43mn_calls\u001b[49m\u001b[43m,\u001b[49m\n\u001b[1;32m    290\u001b[0m \u001b[43m    \u001b[49m\u001b[43mn_points\u001b[49m\u001b[38;5;241;43m=\u001b[39;49m\u001b[43mn_points\u001b[49m\u001b[43m,\u001b[49m\n\u001b[1;32m    291\u001b[0m \u001b[43m    \u001b[49m\u001b[43mn_random_starts\u001b[49m\u001b[38;5;241;43m=\u001b[39;49m\u001b[43mn_random_starts\u001b[49m\u001b[43m,\u001b[49m\n\u001b[1;32m    292\u001b[0m \u001b[43m    \u001b[49m\u001b[43mn_initial_points\u001b[49m\u001b[38;5;241;43m=\u001b[39;49m\u001b[43mn_initial_points\u001b[49m\u001b[43m,\u001b[49m\n\u001b[1;32m    293\u001b[0m \u001b[43m    \u001b[49m\u001b[43minitial_point_generator\u001b[49m\u001b[38;5;241;43m=\u001b[39;49m\u001b[43minitial_point_generator\u001b[49m\u001b[43m,\u001b[49m\n\u001b[1;32m    294\u001b[0m \u001b[43m    \u001b[49m\u001b[43mn_restarts_optimizer\u001b[49m\u001b[38;5;241;43m=\u001b[39;49m\u001b[43mn_restarts_optimizer\u001b[49m\u001b[43m,\u001b[49m\n\u001b[1;32m    295\u001b[0m \u001b[43m    \u001b[49m\u001b[43mx0\u001b[49m\u001b[38;5;241;43m=\u001b[39;49m\u001b[43mx0\u001b[49m\u001b[43m,\u001b[49m\n\u001b[1;32m    296\u001b[0m \u001b[43m    \u001b[49m\u001b[43my0\u001b[49m\u001b[38;5;241;43m=\u001b[39;49m\u001b[43my0\u001b[49m\u001b[43m,\u001b[49m\n\u001b[1;32m    297\u001b[0m \u001b[43m    \u001b[49m\u001b[43mrandom_state\u001b[49m\u001b[38;5;241;43m=\u001b[39;49m\u001b[43mrng\u001b[49m\u001b[43m,\u001b[49m\n\u001b[1;32m    298\u001b[0m \u001b[43m    \u001b[49m\u001b[43mverbose\u001b[49m\u001b[38;5;241;43m=\u001b[39;49m\u001b[43mverbose\u001b[49m\u001b[43m,\u001b[49m\n\u001b[1;32m    299\u001b[0m \u001b[43m    \u001b[49m\u001b[43mspace_constraint\u001b[49m\u001b[38;5;241;43m=\u001b[39;49m\u001b[43mspace_constraint\u001b[49m\u001b[43m,\u001b[49m\n\u001b[1;32m    300\u001b[0m \u001b[43m    \u001b[49m\u001b[43mcallback\u001b[49m\u001b[38;5;241;43m=\u001b[39;49m\u001b[43mcallback\u001b[49m\u001b[43m,\u001b[49m\n\u001b[1;32m    301\u001b[0m \u001b[43m    \u001b[49m\u001b[43mn_jobs\u001b[49m\u001b[38;5;241;43m=\u001b[39;49m\u001b[43mn_jobs\u001b[49m\u001b[43m,\u001b[49m\n\u001b[1;32m    302\u001b[0m \u001b[43m    \u001b[49m\u001b[43mmodel_queue_size\u001b[49m\u001b[38;5;241;43m=\u001b[39;49m\u001b[43mmodel_queue_size\u001b[49m\u001b[43m,\u001b[49m\n\u001b[1;32m    303\u001b[0m \u001b[43m\u001b[49m\u001b[43m)\u001b[49m\n",
      "File \u001b[0;32m~/projects/computer_vision/venv/lib/python3.10/site-packages/skopt/optimizer/base.py:332\u001b[0m, in \u001b[0;36mbase_minimize\u001b[0;34m(func, dimensions, base_estimator, n_calls, n_random_starts, n_initial_points, initial_point_generator, acq_func, acq_optimizer, x0, y0, random_state, verbose, callback, n_points, n_restarts_optimizer, xi, kappa, n_jobs, model_queue_size, space_constraint)\u001b[0m\n\u001b[1;32m    330\u001b[0m \u001b[38;5;28;01mfor\u001b[39;00m _ \u001b[38;5;129;01min\u001b[39;00m \u001b[38;5;28mrange\u001b[39m(n_calls):\n\u001b[1;32m    331\u001b[0m     next_x \u001b[38;5;241m=\u001b[39m optimizer\u001b[38;5;241m.\u001b[39mask()\n\u001b[0;32m--> 332\u001b[0m     next_y \u001b[38;5;241m=\u001b[39m \u001b[43mfunc\u001b[49m\u001b[43m(\u001b[49m\u001b[43mnext_x\u001b[49m\u001b[43m)\u001b[49m\n\u001b[1;32m    333\u001b[0m     result \u001b[38;5;241m=\u001b[39m optimizer\u001b[38;5;241m.\u001b[39mtell(next_x, next_y)\n\u001b[1;32m    334\u001b[0m     result\u001b[38;5;241m.\u001b[39mspecs \u001b[38;5;241m=\u001b[39m specs\n",
      "File \u001b[0;32m~/projects/computer_vision/venv/lib/python3.10/site-packages/skopt/utils.py:779\u001b[0m, in \u001b[0;36muse_named_args.<locals>.decorator.<locals>.wrapper\u001b[0;34m(x)\u001b[0m\n\u001b[1;32m    776\u001b[0m arg_dict \u001b[38;5;241m=\u001b[39m {dim\u001b[38;5;241m.\u001b[39mname: value \u001b[38;5;28;01mfor\u001b[39;00m dim, value \u001b[38;5;129;01min\u001b[39;00m \u001b[38;5;28mzip\u001b[39m(dimensions, x)}\n\u001b[1;32m    778\u001b[0m \u001b[38;5;66;03m# Call the wrapped objective function with the named arguments.\u001b[39;00m\n\u001b[0;32m--> 779\u001b[0m objective_value \u001b[38;5;241m=\u001b[39m \u001b[43mfunc\u001b[49m\u001b[43m(\u001b[49m\u001b[38;5;241;43m*\u001b[39;49m\u001b[38;5;241;43m*\u001b[39;49m\u001b[43marg_dict\u001b[49m\u001b[43m)\u001b[49m\n\u001b[1;32m    781\u001b[0m \u001b[38;5;28;01mreturn\u001b[39;00m objective_value\n",
      "Cell \u001b[0;32mIn[51], line 79\u001b[0m, in \u001b[0;36mobjective_function\u001b[0;34m(**params)\u001b[0m\n\u001b[1;32m     65\u001b[0m sift_hps \u001b[38;5;241m=\u001b[39m {\n\u001b[1;32m     66\u001b[0m     \u001b[38;5;124m'\u001b[39m\u001b[38;5;124mnfeatures\u001b[39m\u001b[38;5;124m'\u001b[39m: params[\u001b[38;5;124m'\u001b[39m\u001b[38;5;124msift_n_features\u001b[39m\u001b[38;5;124m'\u001b[39m],\n\u001b[1;32m     67\u001b[0m     \u001b[38;5;124m'\u001b[39m\u001b[38;5;124mnOctaveLayers\u001b[39m\u001b[38;5;124m'\u001b[39m: params[\u001b[38;5;124m'\u001b[39m\u001b[38;5;124msift_n_octave_layers\u001b[39m\u001b[38;5;124m'\u001b[39m],\n\u001b[0;32m   (...)\u001b[0m\n\u001b[1;32m     70\u001b[0m     \u001b[38;5;124m'\u001b[39m\u001b[38;5;124msigma\u001b[39m\u001b[38;5;124m'\u001b[39m: params[\u001b[38;5;124m'\u001b[39m\u001b[38;5;124msift_sigma\u001b[39m\u001b[38;5;124m'\u001b[39m],\n\u001b[1;32m     71\u001b[0m }\n\u001b[1;32m     73\u001b[0m ransac_hps \u001b[38;5;241m=\u001b[39m {\n\u001b[1;32m     74\u001b[0m     \u001b[38;5;124m'\u001b[39m\u001b[38;5;124minliers_threshold\u001b[39m\u001b[38;5;124m'\u001b[39m: params[\u001b[38;5;124m'\u001b[39m\u001b[38;5;124mransac_inliers_threshold\u001b[39m\u001b[38;5;124m'\u001b[39m],\n\u001b[1;32m     75\u001b[0m     \u001b[38;5;124m'\u001b[39m\u001b[38;5;124mmin_datapoints\u001b[39m\u001b[38;5;124m'\u001b[39m: params[\u001b[38;5;124m'\u001b[39m\u001b[38;5;124mransac_min_datapoints\u001b[39m\u001b[38;5;124m'\u001b[39m],\n\u001b[1;32m     76\u001b[0m     \u001b[38;5;124m'\u001b[39m\u001b[38;5;124mreproj_threshold\u001b[39m\u001b[38;5;124m'\u001b[39m: params[\u001b[38;5;124m'\u001b[39m\u001b[38;5;124mransac_threshold\u001b[39m\u001b[38;5;124m'\u001b[39m],\n\u001b[1;32m     77\u001b[0m }\n\u001b[0;32m---> 79\u001b[0m acc, _, _, _ \u001b[38;5;241m=\u001b[39m \u001b[43mdetect_on_dataset\u001b[49m\u001b[43m(\u001b[49m\u001b[43mtest_images\u001b[49m\u001b[43m,\u001b[49m\u001b[43m \u001b[49m\u001b[43mquery_images\u001b[49m\u001b[43m,\u001b[49m\u001b[43m \u001b[49m\u001b[43msift_hps\u001b[49m\u001b[43m,\u001b[49m\u001b[43m \u001b[49m\u001b[43mransac_hps\u001b[49m\u001b[43m,\u001b[49m\n\u001b[1;32m     80\u001b[0m \u001b[43m                                 \u001b[49m\u001b[43mparams\u001b[49m\u001b[43m[\u001b[49m\u001b[38;5;124;43m'\u001b[39;49m\u001b[38;5;124;43mlowe_threshold\u001b[39;49m\u001b[38;5;124;43m'\u001b[39;49m\u001b[43m]\u001b[49m\u001b[43m,\u001b[49m\n\u001b[1;32m     81\u001b[0m \u001b[43m                                 \u001b[49m\u001b[43mparams\u001b[49m\u001b[43m[\u001b[49m\u001b[38;5;124;43m'\u001b[39;49m\u001b[38;5;124;43mmin_match_count\u001b[39;49m\u001b[38;5;124;43m'\u001b[39;49m\u001b[43m]\u001b[49m\u001b[43m)\u001b[49m\n\u001b[1;32m     83\u001b[0m \u001b[38;5;66;03m# Negative because we minimise in the optimisation procedure.\u001b[39;00m\n\u001b[1;32m     84\u001b[0m \u001b[38;5;28;01mreturn\u001b[39;00m \u001b[38;5;241m-\u001b[39macc\n",
      "Cell \u001b[0;32mIn[48], line 20\u001b[0m, in \u001b[0;36mdetect_on_dataset\u001b[0;34m(test_imgs, query_imgs, sift_hps, ransac_hps, lowe_threshold, min_match_count, verbose)\u001b[0m\n\u001b[1;32m     17\u001b[0m img_annotations \u001b[38;5;241m=\u001b[39m pd\u001b[38;5;241m.\u001b[39mread_csv(annotations_path)\n\u001b[1;32m     19\u001b[0m \u001b[38;5;28mprint\u001b[39m(\u001b[38;5;124m\"\u001b[39m\u001b[38;5;130;01m\\n\u001b[39;00m\u001b[38;5;124m\"\u001b[39m, flush\u001b[38;5;241m=\u001b[39m\u001b[38;5;28;01mTrue\u001b[39;00m); logger\u001b[38;5;241m.\u001b[39minfo(\u001b[38;5;124mf\u001b[39m\u001b[38;5;124m\"\u001b[39m\u001b[38;5;124mDetecting objects in \u001b[39m\u001b[38;5;132;01m{\u001b[39;00mimg_path\u001b[38;5;241m.\u001b[39mstem\u001b[38;5;132;01m}\u001b[39;00m\u001b[38;5;124m\"\u001b[39m)\n\u001b[0;32m---> 20\u001b[0m detections \u001b[38;5;241m=\u001b[39m \u001b[43mdetector\u001b[49m\u001b[38;5;241;43m.\u001b[39;49m\u001b[43mdetect\u001b[49m\u001b[43m(\u001b[49m\u001b[43mimg\u001b[49m\u001b[43m,\u001b[49m\u001b[43m \u001b[49m\u001b[43mlowe_threshold\u001b[49m\u001b[43m,\u001b[49m\u001b[43m \u001b[49m\u001b[43mmin_match_count\u001b[49m\u001b[43m,\u001b[49m\u001b[43m \u001b[49m\u001b[43mdraw\u001b[49m\u001b[38;5;241;43m=\u001b[39;49m\u001b[38;5;28;43;01mFalse\u001b[39;49;00m\u001b[43m)\u001b[49m\n\u001b[1;32m     22\u001b[0m acc, tpr, fpr, fnr \u001b[38;5;241m=\u001b[39m task3\u001b[38;5;241m.\u001b[39mevaluate_detections(detections, img_annotations)\n\u001b[1;32m     23\u001b[0m acc_lst\u001b[38;5;241m.\u001b[39mappend(acc); tpr_list\u001b[38;5;241m.\u001b[39mappend(tpr); fpr_lst\u001b[38;5;241m.\u001b[39mappend(fpr); fnr_lst\u001b[38;5;241m.\u001b[39mappend(fnr)\n",
      "File \u001b[0;32m~/projects/computer_vision/task3.py:423\u001b[0m, in \u001b[0;36mObjectDetector.detect\u001b[0;34m(self, train_img, lowe_ratio_test_threshold, min_match_count, draw)\u001b[0m\n\u001b[1;32m    420\u001b[0m \u001b[38;5;66;03m# Use RANSAC to reject outliers and estimate a homography for the\u001b[39;00m\n\u001b[1;32m    421\u001b[0m \u001b[38;5;66;03m# the remaining sets of inliers.\u001b[39;00m\n\u001b[1;32m    422\u001b[0m \u001b[38;5;28mself\u001b[39m\u001b[38;5;241m.\u001b[39mransac\u001b[38;5;241m.\u001b[39mreset()\n\u001b[0;32m--> 423\u001b[0m model, mask \u001b[38;5;241m=\u001b[39m \u001b[38;5;28;43mself\u001b[39;49m\u001b[38;5;241;43m.\u001b[39;49m\u001b[43mransac\u001b[49m\u001b[38;5;241;43m.\u001b[39;49m\u001b[43mfit\u001b[49m\u001b[43m(\u001b[49m\u001b[43msrc_points\u001b[49m\u001b[43m,\u001b[49m\u001b[43m \u001b[49m\u001b[43mdst_points\u001b[49m\u001b[43m)\u001b[49m \n\u001b[1;32m    424\u001b[0m matches_mask \u001b[38;5;241m=\u001b[39m \u001b[38;5;28;01mNone\u001b[39;00m \u001b[38;5;66;03m# TODO: Write matches_mask\u001b[39;00m\n\u001b[1;32m    426\u001b[0m \u001b[38;5;28;01mif\u001b[39;00m model\u001b[38;5;241m.\u001b[39mbest_model \u001b[38;5;129;01mis\u001b[39;00m \u001b[38;5;28;01mNone\u001b[39;00m:\n",
      "File \u001b[0;32m~/projects/computer_vision/task3.py:173\u001b[0m, in \u001b[0;36mRANSAC.fit\u001b[0;34m(self, src, dst)\u001b[0m\n\u001b[1;32m    170\u001b[0m dst_samples \u001b[38;5;241m=\u001b[39m dst[:, sample_idxs]\n\u001b[1;32m    172\u001b[0m model \u001b[38;5;241m=\u001b[39m \u001b[38;5;28mself\u001b[39m\u001b[38;5;241m.\u001b[39mmodel_cls(\u001b[38;5;241m*\u001b[39m\u001b[38;5;241m*\u001b[39m\u001b[38;5;28mself\u001b[39m\u001b[38;5;241m.\u001b[39mmodel_hyperparams)\n\u001b[0;32m--> 173\u001b[0m \u001b[43mmodel\u001b[49m\u001b[38;5;241;43m.\u001b[39;49m\u001b[43mfit\u001b[49m\u001b[43m(\u001b[49m\u001b[43msrc_samples\u001b[49m\u001b[43m,\u001b[49m\u001b[43m \u001b[49m\u001b[43mdst_samples\u001b[49m\u001b[43m)\u001b[49m\n\u001b[1;32m    175\u001b[0m remaining_idxs \u001b[38;5;241m=\u001b[39m permuted_idxs[\u001b[38;5;28mself\u001b[39m\u001b[38;5;241m.\u001b[39mmin_datapoints:]\n\u001b[1;32m    176\u001b[0m src_non_samples \u001b[38;5;241m=\u001b[39m src[:, remaining_idxs]\n",
      "File \u001b[0;32m~/projects/computer_vision/task3.py:241\u001b[0m, in \u001b[0;36mDirectLinearTransformer.fit\u001b[0;34m(self, src, dst)\u001b[0m\n\u001b[1;32m    239\u001b[0m     A[\u001b[38;5;241m2\u001b[39m\u001b[38;5;241m*\u001b[39mi, \u001b[38;5;241m6\u001b[39m:\u001b[38;5;241m9\u001b[39m] \u001b[38;5;241m=\u001b[39m \u001b[38;5;241m-\u001b[39mdst[\u001b[38;5;241m0\u001b[39m, i] \u001b[38;5;241m*\u001b[39m src[:, i]\n\u001b[1;32m    240\u001b[0m     A[\u001b[38;5;241m2\u001b[39m\u001b[38;5;241m*\u001b[39mi\u001b[38;5;241m+\u001b[39m\u001b[38;5;241m1\u001b[39m, \u001b[38;5;241m3\u001b[39m:\u001b[38;5;241m6\u001b[39m] \u001b[38;5;241m=\u001b[39m src[:, i]\n\u001b[0;32m--> 241\u001b[0m     A[\u001b[38;5;241m2\u001b[39m\u001b[38;5;241m*\u001b[39mi\u001b[38;5;241m+\u001b[39m\u001b[38;5;241m1\u001b[39m, \u001b[38;5;241m6\u001b[39m:\u001b[38;5;241m9\u001b[39m] \u001b[38;5;241m=\u001b[39m \u001b[38;5;241m-\u001b[39mdst[\u001b[38;5;241m1\u001b[39m, i] \u001b[38;5;241m*\u001b[39m src[:, i]\n\u001b[1;32m    243\u001b[0m \u001b[38;5;66;03m# Solve the homogeneous linear system using SVD\u001b[39;00m\n\u001b[1;32m    244\u001b[0m U, D, Vt \u001b[38;5;241m=\u001b[39m np\u001b[38;5;241m.\u001b[39mlinalg\u001b[38;5;241m.\u001b[39msvd(A)\n",
      "\u001b[0;31mKeyboardInterrupt\u001b[0m: "
     ]
    }
   ],
   "source": [
    "import json\n",
    "\n",
    "from tqdm.auto import tqdm\n",
    "from skopt import gp_minimize\n",
    "from skopt.space import Integer, Real\n",
    "from skopt.utils import use_named_args\n",
    "from skopt.callbacks import Callable\n",
    "\n",
    "\n",
    "class NumpyEncoder(json.JSONEncoder):\n",
    "    \"\"\"Special json encoder for numpy types.\"\"\"\n",
    "    def default(self, obj):\n",
    "        if isinstance(obj, np.integer):\n",
    "            return int(obj)\n",
    "        elif isinstance(obj, np.floating):\n",
    "            return float(obj)\n",
    "        elif isinstance(obj, np.ndarray):\n",
    "            return obj.tolist()\n",
    "        return json.JSONEncoder.default(self, obj)\n",
    "    \n",
    "\n",
    "class LogDisplayProgressCallback(Callable):\n",
    "\n",
    "    def __init__(self, tqdm_obj, hyperparam_names: list):\n",
    "        self.tqdm_obj = tqdm_obj\n",
    "        self.hyperparam_names = hyperparam_names\n",
    "        self.iteration = 1\n",
    "\n",
    "    def __call__(self, result):\n",
    "        self.tqdm_obj.update(1)\n",
    "\n",
    "        # Since we are minimising negative accuracy.\n",
    "        best_score = -result.fun \n",
    "        current_params = result.x\n",
    "        \n",
    "        result_data = {\n",
    "            'iteration': self.iteration,\n",
    "            'best_score': best_score,\n",
    "            'parameters': dict(zip(self.hyperparam_names, current_params))\n",
    "        }\n",
    "\n",
    "        with open('optimisation_log.json', 'a') as f:\n",
    "            json.dump(result_data, f, cls=NumpyEncoder)\n",
    "            f.write(',\\n')\n",
    "\n",
    "        self.iteration += 1\n",
    "\n",
    "\n",
    "# Define the hyperparameter space\n",
    "space = [\n",
    "    Integer(100, 164, name='sift_n_features'),\n",
    "    Integer(1, 10, name='sift_n_octave_layers'),\n",
    "    Real(0.005, 0.2, name='sift_contrast_threshold'),\n",
    "    Real(0.05, 20, name='sift_edge_threshold'),\n",
    "    Real(0.1, 5.0, name='sift_sigma'),\n",
    "    Real(1.0, 20.0, name='ransac_threshold'),\n",
    "    Integer(4, 10, name='ransac_min_datapoints'),\n",
    "    Integer(0, 8, name='ransac_inliers_threshold'),\n",
    "    Real(0.5, 2.0, name='lowe_threshold'),\n",
    "    Integer(4, 50, name='min_match_count'),\n",
    "]\n",
    "\n",
    "@use_named_args(space)\n",
    "def objective_function(**params):\n",
    "    sift_hps = {\n",
    "        'nfeatures': params['sift_n_features'],\n",
    "        'nOctaveLayers': params['sift_n_octave_layers'],\n",
    "        'contrastThreshold': params['sift_contrast_threshold'],\n",
    "        'edgeThreshold': params['sift_edge_threshold'],\n",
    "        'sigma': params['sift_sigma'],\n",
    "    }\n",
    "\n",
    "    ransac_hps = {\n",
    "        'inliers_threshold': params['ransac_inliers_threshold'],\n",
    "        'min_datapoints': params['ransac_min_datapoints'],\n",
    "        'reproj_threshold': params['ransac_threshold'],\n",
    "    }\n",
    "\n",
    "    acc, _, _, _ = detect_on_dataset(test_images, query_images, sift_hps, ransac_hps,\n",
    "                                     params['lowe_threshold'],\n",
    "                                     params['min_match_count'])\n",
    "    \n",
    "    # Negative because we minimise in the optimisation procedure.\n",
    "    return -acc\n",
    "\n",
    "\n",
    "ITERATIONS = 75\n",
    "\n",
    "tqdm_o = tqdm(total=ITERATIONS)\n",
    "callback = LogDisplayProgressCallback(tqdm_o, [param.name for param in space])\n",
    "\n",
    "test_images = ImageDataset(TEST_IMG_DIR, file_ext=\"png\")\n",
    "query_images = ImageDataset(QUERY_IMG_DIR, file_ext=\"png\")\n",
    "\n",
    "result = gp_minimize(\n",
    "    objective_function,\n",
    "    dimensions=space,\n",
    "    n_calls=ITERATIONS,\n",
    "    random_state=41,\n",
    "    x0=[init_params],\n",
    "    callback=[callback]\n",
    ")\n",
    "\n",
    "tqdm_o.close()"
   ]
  },
  {
   "cell_type": "code",
   "execution_count": null,
   "metadata": {},
   "outputs": [],
   "source": []
  }
 ],
 "metadata": {
  "kernelspec": {
   "display_name": "venv",
   "language": "python",
   "name": "python3"
  },
  "language_info": {
   "codemirror_mode": {
    "name": "ipython",
    "version": 3
   },
   "file_extension": ".py",
   "mimetype": "text/x-python",
   "name": "python",
   "nbconvert_exporter": "python",
   "pygments_lexer": "ipython3",
   "version": "3.10.12"
  }
 },
 "nbformat": 4,
 "nbformat_minor": 2
}
