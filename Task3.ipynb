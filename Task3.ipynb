{
 "cells": [
  {
   "cell_type": "markdown",
   "metadata": {},
   "source": [
    "# Task 3 - Feature Matching using SIFT\n",
    "\n",
    "Write a function which takes an image from the same dataset for training\n",
    "and testing as in the previous task.\n",
    "\n",
    "**Main steps:**\n",
    "1. You first extract keypoints and feature descriptors from your\n",
    "Test and Train images using standard SIFT or SURF feature extraction\n",
    "function from a library.\n",
    "2. Then you match features between images which will give you the raw noisy matches (correspondences).\n",
    "3. Now you should decide which geometric transform to use to reject the outliers. (using RANSAC)\n",
    "4. Finally, you will\n",
    "define a score on the obtained inlier matches and will use this to detect the\n",
    "objects (icons) scoring high for a given Test image. A basic score is counting\n",
    "the inlier matches.\n",
    "\n",
    "**Output:**\n",
    "\n",
    "Detect objects in the Test images using SIFT or equivalent features (such as SURF), recognize to which class they belong, and identify\n",
    "their scales and orientations. Similar as Task2, for visual demonstration the\n",
    "function should open a box around each detected object and indicate its class\n",
    "label. This box is scaled and rotated according to the object’s scale and orientation. Demonstrate example images(s) of the outcome detection in your report. Besides, demonstrate example images(s) that shows the feature-based\n",
    "matches established between the recognised objects and a Test image, before\n",
    "and after the outlier refinement step.\n",
    "\n",
    "**Evaluation:**\n",
    "\n",
    "Evaluate your algorithm on all Test images to report the overall Intersection over Union (IoU), False Positive (FPR), True Positive (TPR) and\n",
    "Accuracy (ACC) rates, as well as the average runtime. Refer to the following report http://host.robots.ox.ac.uk/pascal/VOC/voc2012/devkit_\n",
    "doc.pdf section 4.4 for further information about the evaluation metrics.\n",
    "Show and explain cases where this scheme finds difficulty to perform correctly. Compare the SIFT/SURF results to that of Task2 algorithm e.g.,\n",
    "does it improve the overall speed or accuracy? How much? Why?\n",
    "\n",
    "**Hyperparameter tuning:**\n",
    "\n",
    "Similarly, you will have some hyper-parameters to tune. This includes the\n",
    "number of Octaves and the (within-octave) Scalelevels within SIFT to build\n",
    "scale-spaces for keypoint detection, and the MaxRatio parameter within the\n",
    "matchFeatures function to reject weak matches. How are these parameters\n",
    "set for this task? Show quantitatively why.\n",
    "\n",
    "**Notes:**\n",
    "\n",
    "For task 2 and task 3, you are allowed to use library functions for creating the pyramid or using Gaussian convolution. You are also allowed to use the library functions for extracting features, for e.g. extracting SIFT features. You are allowed to use math libraries, for instance svd functions for computing the homography.\n",
    "\n",
    "You are *not* allowed to use the `cv2.matchTemplate` or `cv2.BFMatcher`.\n",
    "- Basically functions for matching features need to be coded. \n",
    "- You would need to implement RANSAC also yourself."
   ]
  },
  {
   "cell_type": "markdown",
   "metadata": {},
   "source": [
    "### Imports & Constants"
   ]
  },
  {
   "cell_type": "code",
   "execution_count": 5,
   "metadata": {},
   "outputs": [],
   "source": [
    "import task3\n",
    "import cv2 as cv\n",
    "import pandas as pd\n",
    "import numpy as np\n",
    "from typing import Dict, Tuple\n",
    "\n",
    "from pathlib import Path\n",
    "from task3 import ImageDataset, ObjectDetector, Verbosity\n",
    "\n",
    "QUERY_IMG_DIR = Path(\"IconDataset\", \"png\")\n",
    "TEST_IMG_DIR = Path(\"Task3Dataset\", \"images\")\n",
    "\n",
    "ANNOTATIONS_DIR = Path(\"Task3Dataset\", \"annotations\")\n",
    "\n",
    "test_images = ImageDataset(TEST_IMG_DIR, file_ext=\"png\")\n",
    "query_images = ImageDataset(QUERY_IMG_DIR, file_ext=\"png\")"
   ]
  },
  {
   "cell_type": "markdown",
   "metadata": {},
   "source": [
    "### Run detection pipeline on dataset"
   ]
  },
  {
   "cell_type": "code",
   "execution_count": 11,
   "metadata": {},
   "outputs": [],
   "source": [
    "def detect_on_dataset(\n",
    "        test_imgs: ImageDataset, \n",
    "        query_imgs: ImageDataset, \n",
    "        sift_hps: Dict = {},\n",
    "        ransac_hps: Dict = {},\n",
    "        lowe_threshold: float = 0.7,\n",
    "        min_match_count: int = 10, \n",
    "        verbose: Verbosity = Verbosity.MEDIUM\n",
    "    ) -> Tuple[float, ...]:\n",
    "\n",
    "    acc_lst, tpr_list, fpr_lst, fnr_lst = [], [], [], []\n",
    "    detector = ObjectDetector(query_imgs, sift_hps, ransac_hps, verbose=False)\n",
    "\n",
    "    # Iterate through each test image and detect objects in it. Compare these detctions to the ground truth annotations.\n",
    "    for img, img_path in test_imgs:\n",
    "        annotations_path = ANNOTATIONS_DIR / img_path.with_suffix(\".csv\").name\n",
    "        img_annotations = pd.read_csv(annotations_path)\n",
    "\n",
    "        print(f\"Detecting objects in {img_path.stem}\")\n",
    "        detections = detector.detect(img, lowe_threshold, min_match_count, draw=False)\n",
    "\n",
    "        acc, tpr, fpr, fnr = task3.evaluate_detections(detections, img_annotations)\n",
    "        print(f\"ACC: {acc:.2f}, TPR: {tpr:.2f}, FPR: {fpr:.2f}, FNR: {fnr:.2f}\")\n",
    "        acc_lst.append(acc); tpr_list.append(tpr); fpr_lst.append(fpr); fnr_lst.append(fnr)\n",
    "\n",
    "    return np.mean(acc_lst), np.mean(tpr_list), np.mean(fpr_lst), np.mean(fnr_lst)"
   ]
  },
  {
   "cell_type": "code",
   "execution_count": null,
   "metadata": {},
   "outputs": [],
   "source": [
    "acc, tpr, fpr, fnr = detect_on_dataset(test_images, query_images)"
   ]
  },
  {
   "cell_type": "code",
   "execution_count": 4,
   "metadata": {},
   "outputs": [
    {
     "name": "stdout",
     "output_type": "stream",
     "text": [
      "MEAN RESULTS:\n",
      "ACC: 0.37, TPR: 0.48, FPR: 0.17, FNR: 0.52\n"
     ]
    }
   ],
   "source": [
    "print(\"MEAN RESULTS:\")\n",
    "print(f\"ACC: {acc:.2f}, TPR: {tpr:.2f}, FPR: {fpr:.2f}, FNR: {fnr:.2f}\")"
   ]
  },
  {
   "cell_type": "markdown",
   "metadata": {},
   "source": [
    "### Hyperparameter Optimisation\n",
    "\n",
    "We'll use the following objective function to measure performance over a range of hyperparameters for `SIFT`, `RANSAC`, Lowe's Test, and minimum match counts. Then, using Bayesian optimisation, we'll minimise the function, hence we use '-accuracy'."
   ]
  },
  {
   "cell_type": "code",
   "execution_count": 10,
   "metadata": {},
   "outputs": [],
   "source": [
    "from skopt import gp_minimize\n",
    "from skopt.space import Integer, Real\n",
    "from skopt.utils import use_named_args\n",
    "\n",
    "# Define the hyperparameter space\n",
    "space = [\n",
    "    Integer(64, 256, name='nFeatures'),\n",
    "    Integer()\n",
    "]"
   ]
  },
  {
   "cell_type": "code",
   "execution_count": null,
   "metadata": {},
   "outputs": [],
   "source": []
  }
 ],
 "metadata": {
  "kernelspec": {
   "display_name": "venv",
   "language": "python",
   "name": "python3"
  },
  "language_info": {
   "codemirror_mode": {
    "name": "ipython",
    "version": 3
   },
   "file_extension": ".py",
   "mimetype": "text/x-python",
   "name": "python",
   "nbconvert_exporter": "python",
   "pygments_lexer": "ipython3",
   "version": "3.10.12"
  }
 },
 "nbformat": 4,
 "nbformat_minor": 2
}
