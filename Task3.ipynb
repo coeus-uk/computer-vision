{
 "cells": [
  {
   "cell_type": "markdown",
   "metadata": {},
   "source": [
    "# Task 3 - Feature Matching using SIFT\n",
    "\n",
    "Write a function which takes an image from the same dataset for training\n",
    "and testing as in the previous task.\n",
    "\n",
    "**Main steps:**\n",
    "1. You first extract keypoints and feature descriptors from your\n",
    "Test and Train images using standard SIFT or SURF feature extraction\n",
    "function from a library.\n",
    "2. Then you match features between images which will\n",
    "give you the raw noisy matches (correspondences). \n",
    "3. Now you should decide\n",
    "which geometric transform to use to reject the outliers. \n",
    "4. Finally, you will\n",
    "define a score on the obtained inlier matches and will use this to detect the\n",
    "objects (icons) scoring high for a given Test image. A basic score is counting\n",
    "the inlier matches.\n",
    "\n",
    "**Output:**\n",
    "\n",
    "Detect objects in the Test images using SIFT or equivalent features (such as SURF), recognize to which class they belong, and identify\n",
    "their scales and orientations. Similar as Task2, for visual demonstration the\n",
    "function should open a box around each detected object and indicate its class\n",
    "label. This box is scaled and rotated according to the object’s scale and orientation. Demonstrate example images(s) of the outcome detection in your report. Besides, demonstrate example images(s) that shows the feature-based\n",
    "matches established between the recognised objects and a Test image, before\n",
    "and after the outlier refinement step.\n",
    "\n",
    "**Evaluation:**\n",
    "\n",
    "Evaluate your algorithm on all Test images to report the overall Intersection over Union (IoU), False Positive (FPR), True Positive (TPR) and\n",
    "Accuracy (ACC) rates, as well as the average runtime. Refer to the following report http://host.robots.ox.ac.uk/pascal/VOC/voc2012/devkit_\n",
    "doc.pdf section 4.4 for further information about the evaluation metrics.\n",
    "Show and explain cases where this scheme finds difficulty to perform correctly. Compare the SIFT/SURF results to that of Task2 algorithm e.g.,\n",
    "does it improve the overall speed or accuracy? How much? Why?\n",
    "\n",
    "**Hyperparamter tuning:**\n",
    "\n",
    "Similarly, you will have some hyper-parameters to tune. This includes the\n",
    "number of Octaves and the (within-octave) Scalelevels within SIFT to build\n",
    "scale-spaces for keypoint detection, and the MaxRatio parameter within the\n",
    "matchFeatures function to reject weak matches. How are these parameters\n",
    "set for this task? Show quantitatively why.\n",
    "\n",
    "**Notes:**\n",
    "\n",
    "For task 2 and task 3, you are allowed to use library functions for creating the pyramid or using Gaussian convolution. You are also allowed to use the library functions for extracting features, for e.g. extracting SIFT features. You are allowed to use math libraries, for instance svd functions for computing the homography.\n",
    "\n",
    "You are *not* allowed to use the `cv2.matchTemplate` or `cv2.BFMatcher`.\n",
    "- Basically functions for matching features need to be coded. \n",
    "- You would need to implement RANSAC also yourself."
   ]
  },
  {
   "cell_type": "markdown",
   "metadata": {},
   "source": [
    "## Tutorial\n",
    "\n",
    "[Source](https://docs.opencv.org/4.9.0/d1/de0/tutorial_py_feature_homography.html)\n",
    "\n",
    "So what we did in last session? We used a queryImage, found some feature points in it, we took another trainImage, found the features in that image too and we found the best matches among them. In short, we found locations of some parts of an object in another cluttered image. This information is sufficient to find the object exactly on the trainImage.\n",
    "\n",
    "For that, we can use a function from calib3d module, ie cv.findHomography(). If we pass the set of points from both the images, it will find the perspective transformation of that object. Then we can use cv.perspectiveTransform() to find the object. It needs at least four correct points to find the transformation.\n",
    "\n",
    "We have seen that there can be some possible errors while matching which may affect the result. To solve this problem, algorithm uses RANSAC or LEAST_MEDIAN (which can be decided by the flags). So good matches which provide correct estimation are called inliers and remaining are called outliers. cv.findHomography() returns a mask which specifies the inlier and outlier points."
   ]
  },
  {
   "cell_type": "markdown",
   "metadata": {},
   "source": [
    "### Imports & Constants"
   ]
  },
  {
   "cell_type": "code",
   "execution_count": 22,
   "metadata": {},
   "outputs": [],
   "source": [
    "import cv2 as cv\n",
    "import numpy as np\n",
    "\n",
    "from matplotlib import pyplot as plt\n",
    "\n",
    "VERBOSE = False\n",
    "\n",
    "MIN_MATCH_COUNT = 10\n",
    "FLANN_INDEX_KDTREE = 1\n",
    "\n",
    "# QUERY_IMAGE_FILE = \"./IconDataset/png/005-silo.png\"\n",
    "QUERY_IMAGE_FILE = \"./IconDataset/png/001-lighthouse.png\"\n",
    "TRAIN_IMAGE_FILE = \"./Task3Dataset/images/test_image_2.png\""
   ]
  },
  {
   "cell_type": "markdown",
   "metadata": {},
   "source": [
    "### Find SIFT features & apply ratio test to find best matches\n",
    "\n",
    "[Feature matching with FLANN](https://docs.opencv.org/3.4/d5/d6f/tutorial_feature_flann_matcher.html)"
   ]
  },
  {
   "cell_type": "code",
   "execution_count": 23,
   "metadata": {},
   "outputs": [],
   "source": [
    "# Load images.\n",
    "query_img = cv.imread(QUERY_IMAGE_FILE)\n",
    "train_img = cv.imread(TRAIN_IMAGE_FILE)\n",
    "\n",
    "if VERBOSE:\n",
    "    plt.imshow(query_img)\n",
    "    plt.show()"
   ]
  },
  {
   "cell_type": "code",
   "execution_count": 24,
   "metadata": {},
   "outputs": [],
   "source": [
    "# Instantiate a SIFT detector.\n",
    "sift = cv.SIFT.create()\n",
    "\n",
    "# Determine keypoints and generate descriptors using SIFT.\n",
    "kp_query, desc_query = sift.detectAndCompute(query_img, None)\n",
    "kp_train, desc_train = sift.detectAndCompute(train_img, None)"
   ]
  },
  {
   "cell_type": "markdown",
   "metadata": {},
   "source": [
    "This is something you will need to implement yourself. We are not allowed to use off-the-shelf feature matchers."
   ]
  },
  {
   "cell_type": "code",
   "execution_count": 25,
   "metadata": {},
   "outputs": [],
   "source": [
    "index_params = {\"algorithm\": FLANN_INDEX_KDTREE, \"trees\": 5}\n",
    "search_params = {\"checks\": 50}\n",
    "\n",
    "flann = cv.FlannBasedMatcher(index_params, search_params)\n",
    "matches = flann.knnMatch(desc_query, desc_train, k=2)\n",
    "\n",
    "# Store all good matches as per Lowe's ratio test.\n",
    "good_matches = []\n",
    "for m, n in matches:\n",
    "    if m.distance < 0.7*n.distance:\n",
    "        good_matches.append(m)"
   ]
  },
  {
   "cell_type": "markdown",
   "metadata": {},
   "source": [
    "Now, we set a condition that at least 10 matches (defiend by `MIN_MATCH_COUNT`) should be present to find the object. Otherwise, show a message saying not enough matches are present.\n",
    "\n",
    "If enough matches are found, we extract the locations of the matched keypoints in both images. They are passed to find the perspective transform. Once we have this 3x3 transformation matrix, we use it to transform the corners of `query_img` to corresponding points in `train_image`. Then, we draw it."
   ]
  },
  {
   "cell_type": "code",
   "execution_count": null,
   "metadata": {},
   "outputs": [],
   "source": [
    "if len(good_matches) <= MIN_MATCH_COUNT:\n",
    "    print(f\"Not enough matches are found - {len(good_matches)}/{MIN_MATCH_COUNT}\")\n",
    "    matches_mask = None\n",
    "else:\n",
    "    source_points = np.array([kp_query[m.queryIdx].pt for m in good_matches], dtype=np.float32).reshape(-1,1,2)\n",
    "    dest_points = np.array([kp_train[m.trainIdx].pt for m in good_matches], dtype=np.float32).reshape(-1,1,2)\n",
    "\n",
    "    # We need to implement `findHomography`, `RANSAC`.\n",
    "    M, mask = cv.findHomography(source_points, dest_points, cv.RANSAC, 5.0)\n",
    "    matches_mask = mask.ravel().tolist()\n",
    "\n",
    "    h, w, c = query_img.shape\n",
    "    points = np.array([[0,0],[0,h-1],[w-1,h-1],[w-1,0]], dtype=np.float32).reshape(-1,1,2)\n",
    "    destination = cv.perspectiveTransform(points, M)\n",
    "\n",
    "    train_img = cv.polylines(train_img, [np.int32(destination)], True, 255, 3, cv.LINE_AA)"
   ]
  },
  {
   "cell_type": "markdown",
   "metadata": {},
   "source": [
    "Finally, we draw our inliers (if we successfully found the object) or matching keypoints (if we failed)."
   ]
  },
  {
   "cell_type": "code",
   "execution_count": 27,
   "metadata": {},
   "outputs": [
    {
     "data": {
      "image/png": "[encoded data removed]",
      "text/plain": [
       "<Figure size 640x480 with 1 Axes>"
      ]
     },
     "metadata": {},
     "output_type": "display_data"
    }
   ],
   "source": [
    "draw_params = {\n",
    "    \"matchColor\": (0, 255, 0), # Draw matches in green.\n",
    "    \"singlePointColor\": None,\n",
    "    \"matchesMask\": matches_mask, # Only draw inliers.\n",
    "    \"flags\": 2,\n",
    "} \n",
    "\n",
    "matches_img = cv.drawMatches(query_img, kp_query, train_img, kp_train, good_matches, None, **draw_params)\n",
    "plt.imshow(matches_img)\n",
    "plt.show()"
   ]
  },
  {
   "cell_type": "markdown",
   "metadata": {},
   "source": [
    "## Re-implementation"
   ]
  },
  {
   "cell_type": "markdown",
   "metadata": {},
   "source": []
  }
 ],
 "metadata": {
  "kernelspec": {
   "display_name": "venv",
   "language": "python",
   "name": "python3"
  },
  "language_info": {
   "codemirror_mode": {
    "name": "ipython",
    "version": 3
   },
   "file_extension": ".py",
   "mimetype": "text/x-python",
   "name": "python",
   "nbconvert_exporter": "python",
   "pygments_lexer": "ipython3",
   "version": "3.10.12"
  }
 },
 "nbformat": 4,
 "nbformat_minor": 2
}
