{
 "cells": [
  {
   "cell_type": "markdown",
   "metadata": {},
   "source": [
    "# Task 3 - Feature Matching using SIFT\n",
    "\n",
    "Write a function which takes an image from the same dataset for training\n",
    "and testing as in the previous task.\n",
    "\n",
    "**Main steps:**\n",
    "1. You first extract keypoints and feature descriptors from your\n",
    "Test and Train images using standard SIFT or SURF feature extraction\n",
    "function from a library.\n",
    "2. Then you match features between images which will give you the raw noisy matches (correspondences).\n",
    "3. Now you should decide which geometric transform to use to reject the outliers. (using RANSAC)\n",
    "4. Finally, you will\n",
    "define a score on the obtained inlier matches and will use this to detect the\n",
    "objects (icons) scoring high for a given Test image. A basic score is counting\n",
    "the inlier matches.\n",
    "\n",
    "**Output:**\n",
    "\n",
    "Detect objects in the Test images using SIFT or equivalent features (such as SURF), recognize to which class they belong, and identify\n",
    "their scales and orientations. Similar as Task2, for visual demonstration the\n",
    "function should open a box around each detected object and indicate its class\n",
    "label. This box is scaled and rotated according to the object’s scale and orientation. Demonstrate example images(s) of the outcome detection in your report. Besides, demonstrate example images(s) that shows the feature-based\n",
    "matches established between the recognised objects and a Test image, before\n",
    "and after the outlier refinement step.\n",
    "\n",
    "**Evaluation:**\n",
    "\n",
    "Evaluate your algorithm on all Test images to report the overall Intersection over Union (IoU), False Positive (FPR), True Positive (TPR) and\n",
    "Accuracy (ACC) rates, as well as the average runtime. Refer to the following report http://host.robots.ox.ac.uk/pascal/VOC/voc2012/devkit_\n",
    "doc.pdf section 4.4 for further information about the evaluation metrics.\n",
    "Show and explain cases where this scheme finds difficulty to perform correctly. Compare the SIFT/SURF results to that of Task2 algorithm e.g.,\n",
    "does it improve the overall speed or accuracy? How much? Why?\n",
    "\n",
    "**Hyperparameter tuning:**\n",
    "\n",
    "Similarly, you will have some hyper-parameters to tune. This includes the\n",
    "number of Octaves and the (within-octave) Scalelevels within SIFT to build\n",
    "scale-spaces for keypoint detection, and the MaxRatio parameter within the\n",
    "matchFeatures function to reject weak matches. How are these parameters\n",
    "set for this task? Show quantitatively why.\n",
    "\n",
    "**Notes:**\n",
    "\n",
    "For task 2 and task 3, you are allowed to use library functions for creating the pyramid or using Gaussian convolution. You are also allowed to use the library functions for extracting features, for e.g. extracting SIFT features. You are allowed to use math libraries, for instance svd functions for computing the homography.\n",
    "\n",
    "You are *not* allowed to use the `cv2.matchTemplate` or `cv2.BFMatcher`.\n",
    "- Basically functions for matching features need to be coded. \n",
    "- You would need to implement RANSAC also yourself."
   ]
  },
  {
   "cell_type": "markdown",
   "metadata": {},
   "source": [
    "### Imports & Constants"
   ]
  },
  {
   "cell_type": "code",
   "execution_count": 1,
   "metadata": {},
   "outputs": [],
   "source": [
    "import task3\n",
    "import cv2 as cv\n",
    "import pandas as pd\n",
    "\n",
    "from pathlib import Path\n",
    "from task3 import ImageDataset, ObjectDetector\n",
    "\n",
    "QUERY_IMG_DIR = Path(\"IconDataset\", \"png\")\n",
    "TEST_IMG_DIR = Path(\"Task3Dataset\", \"images\")\n",
    "\n",
    "ANNOTATIONS_DIR = Path(\"Task3Dataset\", \"annotations\")"
   ]
  },
  {
   "cell_type": "code",
   "execution_count": 3,
   "metadata": {},
   "outputs": [
    {
     "name": "stdout",
     "output_type": "stream",
     "text": [
      "Detecting objects in test_image_16\n",
      "ACC: 0.25, TPR: 0.25, FPR: 0.00, FNR: 0.75\n",
      "Detecting objects in test_image_19\n",
      "ACC: 0.00, TPR: 0.00, FPR: 0.33, FNR: 1.00\n",
      "Detecting objects in test_image_18\n",
      "ACC: 0.00, TPR: 0.00, FPR: 0.00, FNR: 1.00\n",
      "Detecting objects in test_image_12\n",
      "ACC: 0.50, TPR: 0.50, FPR: 0.00, FNR: 0.50\n",
      "Detecting objects in test_image_3\n",
      "ACC: 0.00, TPR: 0.00, FPR: 0.33, FNR: 1.00\n",
      "Detecting objects in test_image_4\n",
      "ACC: 0.40, TPR: 0.40, FPR: 0.00, FNR: 0.60\n",
      "Detecting objects in test_image_13\n",
      "ACC: 0.25, TPR: 0.25, FPR: 0.00, FNR: 0.75\n",
      "Detecting objects in test_image_6\n",
      "ACC: 0.60, TPR: 0.75, FPR: 0.33, FNR: 0.25\n",
      "Detecting objects in test_image_17\n",
      "ACC: 0.00, TPR: 0.00, FPR: 0.20, FNR: 1.00\n",
      "Detecting objects in test_image_2\n",
      "ACC: 0.75, TPR: 1.00, FPR: 0.50, FNR: 0.00\n",
      "Detecting objects in test_image_5\n",
      "ACC: 0.40, TPR: 0.40, FPR: 0.00, FNR: 0.60\n",
      "Detecting objects in test_image_15\n",
      "ACC: 0.50, TPR: 0.67, FPR: 0.33, FNR: 0.33\n",
      "Detecting objects in test_image_9\n",
      "ACC: 0.25, TPR: 1.00, FPR: 0.50, FNR: 0.00\n",
      "Detecting objects in test_image_1\n",
      "ACC: 0.25, TPR: 1.00, FPR: 0.50, FNR: 0.00\n",
      "Detecting objects in test_image_10\n",
      "ACC: 0.50, TPR: 0.50, FPR: 0.00, FNR: 0.50\n",
      "Detecting objects in test_image_14\n",
      "ACC: 0.20, TPR: 0.25, FPR: 0.20, FNR: 0.75\n",
      "Detecting objects in test_image_11\n",
      "ACC: 0.25, TPR: 0.50, FPR: 0.40, FNR: 0.50\n",
      "Detecting objects in test_image_20\n",
      "ACC: 0.75, TPR: 0.75, FPR: 0.00, FNR: 0.25\n",
      "Detecting objects in test_image_7\n"
     ]
    }
   ],
   "source": [
    "test_images = ImageDataset(TEST_IMG_DIR, file_ext=\"png\")\n",
    "query_images = ImageDataset(QUERY_IMG_DIR, file_ext=\"png\")\n",
    "\n",
    "detector = ObjectDetector(query_images, {}, verbose=False)\n",
    "\n",
    "# Iterate through each test image and detect objects in it. Compare these detctions to the ground truth annotations.\n",
    "for img, img_path in test_images:\n",
    "    annotations_path = ANNOTATIONS_DIR / img_path.with_suffix(\".csv\").name\n",
    "    img_annotations = pd.read_csv(annotations_path)\n",
    "\n",
    "    print(f\"Detecting objects in {img_path.stem}\")\n",
    "    detections = detector.detect(img, draw=False, lowe_ratio_test_threshold=0.7)\n",
    "    acc, tpr, fpr, fnr = task3.evaluate_detections(detections, img_annotations)\n",
    "\n",
    "    print(f\"ACC: {acc:.2f}, TPR: {tpr:.2f}, FPR: {fpr:.2f}, FNR: {fnr:.2f}\")"
   ]
  },
  {
   "cell_type": "code",
   "execution_count": null,
   "metadata": {},
   "outputs": [],
   "source": []
  }
 ],
 "metadata": {
  "kernelspec": {
   "display_name": "venv",
   "language": "python",
   "name": "python3"
  },
  "language_info": {
   "codemirror_mode": {
    "name": "ipython",
    "version": 3
   },
   "file_extension": ".py",
   "mimetype": "text/x-python",
   "name": "python",
   "nbconvert_exporter": "python",
   "pygments_lexer": "ipython3",
   "version": "3.10.12"
  }
 },
 "nbformat": 4,
 "nbformat_minor": 2
}
