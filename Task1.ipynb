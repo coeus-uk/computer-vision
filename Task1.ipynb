{
 "cells": [
  {
   "attachments": {},
   "cell_type": "markdown",
   "metadata": {},
   "source": [
    "# Task 1"
   ]
  },
  {
   "cell_type": "code",
   "execution_count": 3,
   "metadata": {},
   "outputs": [
    {
     "name": "stdout",
     "output_type": "stream",
     "text": [
      "The autoreload extension is already loaded. To reload it, use:\n",
      "  %reload_ext autoreload\n"
     ]
    },
    {
     "name": "stderr",
     "output_type": "stream",
     "text": [
      "Matplotlib is building the font cache; this may take a moment.\n"
     ]
    }
   ],
   "source": [
    "%load_ext autoreload\n",
    "%autoreload 2\n",
    "\n",
    "import pandas as pd\n",
    "import numpy as np\n",
    "import cv2\n",
    "import matplotlib\n",
    "import matplotlib.pyplot as plt\n",
    "import math\n",
    "import utils"
   ]
  },
  {
   "attachments": {},
   "cell_type": "markdown",
   "metadata": {},
   "source": [
    "# Comparison"
   ]
  },
  {
   "cell_type": "code",
   "execution_count": 48,
   "metadata": {},
   "outputs": [],
   "source": [
    "def our_implementation(img: np.ndarray):\n",
    "    edges = utils.canny(img, gauss_kernel_size=5, sigma=30, low_threshold=110, high_threshold=200)\n",
    "    # plt.imshow(img)\n",
    "    # plt.show()\n",
    "    accumulator, theta_range, rho_range = utils.hough_line(edges, theta_res= np.pi/180, rho_res=1)\n",
    "    hough_lines = utils.get_lines(accumulator, theta_range, rho_range, threshold=100)\n",
    "\n",
    "    line_angles = []\n",
    "    for rho, theta in hough_lines:\n",
    "        # Handle whether the line is in the positive or negative x\n",
    "        if (rho < 0):\n",
    "            theta += np.pi\n",
    "\n",
    "        line_angles.append(theta)\n",
    "\n",
    "        #continue\n",
    "    #print(line_angles)\n",
    "    if(len(line_angles) < 2):\n",
    "        print(f\"Skipping  - need at least 2 lines\")\n",
    "        #continue\n",
    "\n",
    "    # Calculate difference of angles and choose the smaller angle\n",
    "    angle1 = max(line_angles) - min(line_angles)\n",
    "    angle2 = (2 * np.pi) - angle1\n",
    "    angle_between_lines = min(angle1, angle2)\n",
    "    angle_between_lines = np.round(np.rad2deg(angle_between_lines))\n",
    "\n",
    "    return angle_between_lines\n",
    "\n",
    "    "
   ]
  },
  {
   "cell_type": "code",
   "execution_count": 46,
   "metadata": {},
   "outputs": [],
   "source": [
    "def opencv_implementation(img: np.ndarray):\n",
    "    img_edges = cv2.Canny(img, 50, 150, apertureSize=3)\n",
    "    hough_lines = cv2.HoughLines(img_edges, rho=1, theta=np.deg2rad(5), threshold=90, lines=None, srn=0, stn=0)\n",
    "    \n",
    "    line_angles = []\n",
    "    for line in hough_lines:\n",
    "        (rho, theta) = (line[0][0], line[0][1])\n",
    "        # Handle whether the line is in the positive or negative x\n",
    "        if (rho < 0):\n",
    "            theta += np.pi\n",
    "        line_angles.append(theta)\n",
    "\n",
    "    if(len(line_angles) < 2):\n",
    "        #print(f\"Skipping {filename} - need at least 2 lines\")\n",
    "        return None\n",
    "    \n",
    "    # Calculate difference of angles and choose the smaller angle\n",
    "    angle1 = max(line_angles) - min(line_angles)\n",
    "    angle2 = (2 * np.pi) - angle1\n",
    "    angle_between_lines = min(angle1, angle2)\n",
    "    angle_between_lines = np.round(np.rad2deg(angle_between_lines))\n",
    "    \n",
    "    return angle_between_lines"
   ]
  },
  {
   "cell_type": "code",
   "execution_count": 49,
   "metadata": {},
   "outputs": [
    {
     "name": "stdout",
     "output_type": "stream",
     "text": [
      "Our Prediction: 1.0 -- OpenCV Prediction: 40.0 -- Correct_answer: 40 -- Errors(us - cv): 39.0 - 0.0\n",
      "Our Prediction: 21.0 -- OpenCV Prediction: 20.0 -- Correct_answer: 20 -- Errors(us - cv): 1.0 - 0.0\n",
      "Our Prediction: 61.0 -- OpenCV Prediction: 60.0 -- Correct_answer: 60 -- Errors(us - cv): 1.0 - 0.0\n",
      "Our Prediction: 121.0 -- OpenCV Prediction: 120.0 -- Correct_answer: 120 -- Errors(us - cv): 1.0 - 0.0\n",
      "Our Prediction: 54.0 -- OpenCV Prediction: 0.0 -- Correct_answer: 53 -- Errors(us - cv): 1.0 - 53.0\n",
      "Our Prediction: 73.0 -- OpenCV Prediction: 0.0 -- Correct_answer: 72 -- Errors(us - cv): 1.0 - 72.0\n",
      "Our Prediction: 97.0 -- OpenCV Prediction: 95.0 -- Correct_answer: 95 -- Errors(us - cv): 2.0 - 0.0\n",
      "Our Prediction: 110.0 -- OpenCV Prediction: 0.0 -- Correct_answer: 109 -- Errors(us - cv): 1.0 - 109.0\n"
     ]
    },
    {
     "ename": "TypeError",
     "evalue": "unsupported operand type(s) for -: 'int' and 'NoneType'",
     "output_type": "error",
     "traceback": [
      "\u001b[1;31m---------------------------------------------------------------------------\u001b[0m",
      "\u001b[1;31mTypeError\u001b[0m                                 Traceback (most recent call last)",
      "Cell \u001b[1;32mIn[49], line 13\u001b[0m\n\u001b[0;32m      9\u001b[0m our_pred \u001b[39m=\u001b[39m our_implementation(img)\n\u001b[0;32m     10\u001b[0m opencv_pred \u001b[39m=\u001b[39m opencv_implementation(img)\n\u001b[1;32m---> 13\u001b[0m \u001b[39mprint\u001b[39m(\u001b[39mf\u001b[39m\u001b[39m\"\u001b[39m\u001b[39mOur Prediction: \u001b[39m\u001b[39m{\u001b[39;00mour_pred\u001b[39m}\u001b[39;00m\u001b[39m -- OpenCV Prediction: \u001b[39m\u001b[39m{\u001b[39;00mopencv_pred\u001b[39m}\u001b[39;00m\u001b[39m -- Correct_answer: \u001b[39m\u001b[39m{\u001b[39;00mcorrect_answer\u001b[39m}\u001b[39;00m\u001b[39m -- Errors(us - cv): \u001b[39m\u001b[39m{\u001b[39;00mnp\u001b[39m.\u001b[39mabs(correct_answer\u001b[39m-\u001b[39mour_pred)\u001b[39m}\u001b[39;00m\u001b[39m - \u001b[39m\u001b[39m{\u001b[39;00mnp\u001b[39m.\u001b[39mabs(correct_answer\u001b[39m-\u001b[39;49mopencv_pred)\u001b[39m}\u001b[39;00m\u001b[39m\"\u001b[39m)\n",
      "\u001b[1;31mTypeError\u001b[0m: unsupported operand type(s) for -: 'int' and 'NoneType'"
     ]
    }
   ],
   "source": [
    "dataset = pd.read_csv(\"Task1Dataset\\\\list.txt\")\n",
    "\n",
    "for (i, row) in enumerate(dataset.itertuples()):\n",
    "    filename, correct_answer = row.FileName, row.AngleInDegrees\n",
    "\n",
    "    # Read in image, importantly with intensity values 0-255 not 0-1\n",
    "    img = cv2.imread(f\"Task1Dataset\\\\{filename}\", cv2.IMREAD_GRAYSCALE)\n",
    "\n",
    "    our_pred = our_implementation(img)\n",
    "    opencv_pred = opencv_implementation(img)\n",
    "    \n",
    "    \n",
    "    print(f\"Our Prediction: {our_pred} -- OpenCV Prediction: {opencv_pred} -- Correct_answer: {correct_answer} -- Errors(us - cv): {np.abs(correct_answer-our_pred)} - {np.abs(correct_answer-opencv_pred)}\")"
   ]
  },
  {
   "cell_type": "code",
   "execution_count": 44,
   "metadata": {},
   "outputs": [
    {
     "data": {
      "text/plain": [
       "[(538, 0.9691037193870387),\n",
       " (538, 0.9694083368068254),\n",
       " (538, 0.9697129542266121),\n",
       " (539, 0.9666667800287446),\n",
       " (539, 0.9669713974485313),\n",
       " (539, 0.967276014868318),\n",
       " (539, 0.9675806322881049),\n",
       " (540, 0.9642298406704506),\n",
       " (540, 0.9645344580902373),\n",
       " (540, 0.9648390755100241),\n",
       " (540, 0.9651436929298108),\n",
       " (540, 0.9654483103495975),\n",
       " (541, 0.9617929013121566),\n",
       " (541, 0.9620975187319433),\n",
       " (541, 0.9624021361517301),\n",
       " (541, 0.9627067535715168),\n",
       " (541, 0.9630113709913035),\n",
       " (541, 0.9724545110046928),\n",
       " (542, 0.9596605793736493),\n",
       " (542, 0.9599651967934361),\n",
       " (542, 0.9602698142132228),\n",
       " (542, 0.9605744316330096),\n",
       " (542, 0.9608790490527963),\n",
       " (542, 0.9694083368068254),\n",
       " (542, 0.9697129542266121),\n",
       " (542, 0.9700175716463989),\n",
       " (542, 0.9703221890661856),\n",
       " (543, 0.9572236400153553),\n",
       " (543, 0.957528257435142),\n",
       " (543, 0.9578328748549287),\n",
       " (543, 0.9581374922747156),\n",
       " (543, 0.9584421096945023),\n",
       " (543, 0.9669713974485313),\n",
       " (543, 0.967276014868318),\n",
       " (543, 0.9675806322881049),\n",
       " (543, 0.9678852497078916),\n",
       " (543, 0.9681898671276783),\n",
       " (544, 0.9547867006570613),\n",
       " (544, 0.955091318076848),\n",
       " (544, 0.9553959354966348),\n",
       " (544, 0.9557005529164215),\n",
       " (544, 0.9560051703362082),\n",
       " (544, 0.9645344580902373),\n",
       " (544, 0.9648390755100241),\n",
       " (544, 0.9651436929298108),\n",
       " (544, 0.9654483103495975),\n",
       " (544, 0.9657529277693844),\n",
       " (545, 0.952654378718554),\n",
       " (545, 0.9529589961383408),\n",
       " (545, 0.9532636135581275),\n",
       " (545, 0.9620975187319433),\n",
       " (545, 0.9624021361517301),\n",
       " (545, 0.9627067535715168),\n",
       " (545, 0.9630113709913035),\n",
       " (545, 0.9633159884110903),\n",
       " (545, 0.963620605830877),\n",
       " (546, 0.9505220567800468),\n",
       " (546, 0.9508266741998335),\n",
       " (546, 0.9599651967934361),\n",
       " (546, 0.9602698142132228),\n",
       " (546, 0.9605744316330096),\n",
       " (546, 0.9608790490527963),\n",
       " (546, 0.961183666472583),\n",
       " (547, 0.957528257435142),\n",
       " (547, 0.9578328748549287),\n",
       " (547, 0.9581374922747156),\n",
       " (547, 0.9584421096945023),\n",
       " (547, 0.9587467271142891),\n",
       " (548, 0.955091318076848),\n",
       " (548, 0.9553959354966348),\n",
       " (548, 0.9557005529164215),\n",
       " (548, 0.9560051703362082),\n",
       " (548, 0.9563097877559951),\n",
       " (549, 0.9529589961383408),\n",
       " (549, 0.9532636135581275),\n",
       " (549, 0.9535682309779143),\n",
       " (549, 0.953872848397701),\n",
       " (550, 0.9505220567800468),\n",
       " (550, 0.9508266741998335)]"
      ]
     },
     "execution_count": 44,
     "metadata": {},
     "output_type": "execute_result"
    }
   ],
   "source": [
    "our_pred"
   ]
  },
  {
   "attachments": {},
   "cell_type": "markdown",
   "metadata": {},
   "source": [
    "## Other"
   ]
  },
  {
   "cell_type": "code",
   "execution_count": 2,
   "metadata": {},
   "outputs": [
    {
     "data": {
      "image/png": "[encoded data removed]",
      "text/plain": [
       "<Figure size 432x288 with 1 Axes>"
      ]
     },
     "metadata": {
      "needs_background": "light"
     },
     "output_type": "display_data"
    },
    {
     "data": {
      "image/png": "[encoded data removed]",
      "text/plain": [
       "<Figure size 432x288 with 1 Axes>"
      ]
     },
     "metadata": {
      "needs_background": "light"
     },
     "output_type": "display_data"
    },
    {
     "data": {
      "image/png": "[encoded data removed]",
      "text/plain": [
       "<Figure size 432x288 with 1 Axes>"
      ]
     },
     "metadata": {
      "needs_background": "light"
     },
     "output_type": "display_data"
    },
    {
     "data": {
      "text/plain": [
       "(<matplotlib.image.AxesImage at 0x1ce927564c0>,\n",
       " Text(0.5, 1.0, 'OpenCV impl as a reference'),\n",
       " None)"
      ]
     },
     "execution_count": 2,
     "metadata": {},
     "output_type": "execute_result"
    }
   ],
   "source": [
    "img = cv2.imread(\"Task1Dataset\\\\image1.png\")\n",
    "img = img[0:300, 500:800]\n",
    "\n",
    "# img = cv2.imread(\"ducks.jpeg\")\n",
    "# img = img[1200:1800,1200:1800]\n",
    "\n",
    "img = cv2.cvtColor(img, cv2.COLOR_RGB2GRAY)\n",
    "plt.imshow(cv2.cvtColor(img, cv2.COLOR_GRAY2RGB)), plt.title('Image'), plt.show()\n",
    "\n",
    "img_canny = utils.canny(img, \n",
    "                  gauss_kernel_size=5, \n",
    "                  sigma=5, \n",
    "                  low_threshold=70, \n",
    "                  high_threshold=110\n",
    "                  )\n",
    "plt.imshow(cv2.cvtColor(img_canny, cv2.COLOR_GRAY2RGB)), plt.title('Edges'), plt.show()\n",
    "\n",
    "img_canny_reference = cv2.Canny(img, threshold1=70, threshold2=110)\n",
    "plt.imshow(cv2.cvtColor(img_canny_reference, cv2.COLOR_GRAY2RGB)), plt.title('OpenCV impl as a reference'), plt.show()"
   ]
  },
  {
   "attachments": {},
   "cell_type": "markdown",
   "metadata": {},
   "source": [
    "# Our Implementation Clean <br>\n",
    "https://theailearner.com/tag/hysteresis-thresholding/"
   ]
  },
  {
   "attachments": {},
   "cell_type": "markdown",
   "metadata": {},
   "source": [
    "Initialize the accumulator (H) to all zeros \n",
    "\n",
    "For each edge pixel (x,y) in the image\n",
    "\n",
    "    For Θ = 0 to 180\n",
    "    \n",
    "        Calculate r (r = x*cosΘ + y*sinΘ)\n",
    "        \n",
    "        H(Θ,r) = H(Θ,r) +1\n",
    "\n",
    "        endFor\n",
    "    \n",
    "    endFor\n",
    "    \n",
    "Find the (Θ,r) value(s), where H(Θ,r) is above a suitable threshold value."
   ]
  },
  {
   "cell_type": "code",
   "execution_count": 105,
   "metadata": {},
   "outputs": [],
   "source": [
    "# Example usage\n",
    "#img = cv2.imread('image.jpg', cv2.IMREAD_GRAYSCALE)\n",
    "\n",
    "img = cv2.imread(\"Task1Dataset\\\\image4.png\", cv2.IMREAD_GRAYSCALE)\n",
    "edges = cv2.Canny(img, 50, 150)\n",
    "#edges= utils.canny(img, gauss_kernel_size=5, sigma=20, low_threshold=50, high_threshold=150)\n",
    "lines = utils.hough_lines(edges, 20)\n",
    "#lines = utils.get_lines(accumulator, theta_range, rho_range, threshold=100)\n",
    "output_img = cv2.cvtColor(edges, cv2.COLOR_GRAY2BGR)\n",
    "utils.draw_lines(output_img, lines)\n",
    "cv2.imshow('Hough Lines', output_img)\n",
    "cv2.waitKey(0)\n",
    "cv2.destroyAllWindows()"
   ]
  },
  {
   "cell_type": "code",
   "execution_count": 91,
   "metadata": {},
   "outputs": [
    {
     "name": "stdout",
     "output_type": "stream",
     "text": [
      "\n"
     ]
    },
    {
     "data": {
      "image/png": "[encoded data removed]",
      "text/plain": [
       "<Figure size 640x480 with 1 Axes>"
      ]
     },
     "metadata": {},
     "output_type": "display_data"
    },
    {
     "data": {
      "text/plain": [
       "<matplotlib.image.AxesImage at 0x1bc230b56d0>"
      ]
     },
     "execution_count": 91,
     "metadata": {},
     "output_type": "execute_result"
    },
    {
     "data": {
      "image/png": "[encoded data removed]",
      "text/plain": [
       "<Figure size 640x480 with 1 Axes>"
      ]
     },
     "metadata": {},
     "output_type": "display_data"
    }
   ],
   "source": [
    "img = cv2.imread(\"Task1Dataset\\\\image1.png\", cv2.IMREAD_GRAYSCALE)\n",
    "edges = cv2.Canny(img, 50, 150)\n",
    "edges2 = utils.canny(img, gauss_kernel_size=5, sigma=2, low_threshold=10, high_threshold=15)\n",
    "plt.imshow(edges)\n",
    "plt.show()\n",
    "plt.imshow(edges2)"
   ]
  },
  {
   "cell_type": "code",
   "execution_count": 166,
   "metadata": {},
   "outputs": [
    {
     "name": "stderr",
     "output_type": "stream",
     "text": [
      "<>:2: SyntaxWarning: invalid escape sequence '\\i'\n",
      "<>:2: SyntaxWarning: invalid escape sequence '\\i'\n",
      "C:\\Users\\giova\\AppData\\Local\\Temp\\ipykernel_27272\\424936790.py:2: SyntaxWarning: invalid escape sequence '\\i'\n",
      "  img = cv2.imread('Task1Dataset\\image7.png', cv2.IMREAD_GRAYSCALE)\n"
     ]
    },
    {
     "name": "stdout",
     "output_type": "stream",
     "text": [
      "[-0.8726646259971648, -0.8726646259971648, -0.8726646259971648, 0.7853981633974483, 0.7853981633974483, 0.7853981633974483]\n",
      "theta: 95.0 -- correct_answer: 20 -- FAIL\n"
     ]
    },
    {
     "data": {
      "image/png": "[encoded data removed]",
      "text/plain": [
       "<Figure size 640x480 with 1 Axes>"
      ]
     },
     "metadata": {},
     "output_type": "display_data"
    }
   ],
   "source": [
    "# Example usage\n",
    "img = cv2.imread('Task1Dataset\\image7.png', cv2.IMREAD_GRAYSCALE)\n",
    "edges = cv2.Canny(img, 20, 40)\n",
    "accumulator, theta_range, rho_range = utils.hough_line(edges)\n",
    "hough_line = utils.get_lines(accumulator, theta_range, rho_range, threshold=100)\n",
    "line_angles = []\n",
    "plt.imshow(edges)\n",
    "plt.plot()\n",
    "\n",
    "for rho, theta in hough_line:\n",
    "    #print(line)\n",
    "    #(rho, theta) = (line[0][0], line[0][1])\n",
    "    # Handle whether the line is in the positive or negative x\n",
    "    if (rho < 0):\n",
    "        theta += np.pi\n",
    "\n",
    "    line_angles.append(theta)\n",
    "\n",
    "    #continue\n",
    "print(line_angles)\n",
    "if(len(line_angles) < 2):\n",
    "    print(f\"Skipping  - need at least 2 lines\")\n",
    "    #continue\n",
    "\n",
    "# Calculate difference of angles and choose the smaller angle\n",
    "angle1 = max(line_angles) - min(line_angles)\n",
    "angle2 = (2 * np.pi) - angle1\n",
    "angle_between_lines = min(angle1, angle2)\n",
    "angle_between_lines = np.round(np.rad2deg(angle_between_lines))\n",
    "\n",
    "pass_fail_string = \"PASS\" if angle_between_lines == 20 else \"FAIL\"\n",
    "print(f\"theta: {angle_between_lines} -- correct_answer: {20} -- {pass_fail_string}\")"
   ]
  },
  {
   "cell_type": "code",
   "execution_count": 7,
   "metadata": {},
   "outputs": [],
   "source": [
    "def calculate_angle(line1, line2):\n",
    "    \"\"\"\n",
    "    Calculate angle between two lines.\n",
    "    \"\"\"\n",
    "    angle1 = np.arctan2(line1[0][3] - line1[0][1], line1[0][2] - line1[0][0])\n",
    "    angle2 = np.arctan2(line2[0][3] - line2[0][1], line2[0][2] - line2[0][0])\n",
    "    angle = np.degrees(angle1 - angle2)\n",
    "    return angle if angle >= 0 else angle + 180"
   ]
  },
  {
   "cell_type": "code",
   "execution_count": 27,
   "metadata": {},
   "outputs": [
    {
     "name": "stdout",
     "output_type": "stream",
     "text": [
      "[0.9691037193870387, 0.9694083368068254, 0.9697129542266121, 0.9666667800287446, 0.9669713974485313, 0.967276014868318, 0.9675806322881049, 0.9642298406704506, 0.9645344580902373, 0.9648390755100241, 0.9651436929298108, 0.9654483103495975, 0.9617929013121566, 0.9620975187319433, 0.9624021361517301, 0.9627067535715168, 0.9630113709913035, 0.9724545110046928, 0.9596605793736493, 0.9599651967934361, 0.9602698142132228, 0.9605744316330096, 0.9608790490527963, 0.9694083368068254, 0.9697129542266121, 0.9700175716463989, 0.9703221890661856, 0.9572236400153553, 0.957528257435142, 0.9578328748549287, 0.9581374922747156, 0.9584421096945023, 0.9669713974485313, 0.967276014868318, 0.9675806322881049, 0.9678852497078916, 0.9681898671276783, 0.9547867006570613, 0.955091318076848, 0.9553959354966348, 0.9557005529164215, 0.9560051703362082, 0.9645344580902373, 0.9648390755100241, 0.9651436929298108, 0.9654483103495975, 0.9657529277693844, 0.952654378718554, 0.9529589961383408, 0.9532636135581275, 0.9620975187319433, 0.9624021361517301, 0.9627067535715168, 0.9630113709913035, 0.9633159884110903, 0.963620605830877, 0.9505220567800468, 0.9508266741998335, 0.9599651967934361, 0.9602698142132228, 0.9605744316330096, 0.9608790490527963, 0.961183666472583, 0.957528257435142, 0.9578328748549287, 0.9581374922747156, 0.9584421096945023, 0.9587467271142891, 0.955091318076848, 0.9553959354966348, 0.9557005529164215, 0.9560051703362082, 0.9563097877559951, 0.9529589961383408, 0.9532636135581275, 0.9535682309779143, 0.953872848397701, 0.9505220567800468, 0.9508266741998335]\n",
      "theta: 1.2566370614360922 -- correct_answer: 40 -- FAIL\n",
      "[0.16674143566873478, 0.16704605308852152, 0.1673506705083083, 0.16765528792809503, 0.16795990534788177, 0.16826452276766854, 0.16856914018745528, 0.16887375760724205, 0.1691783750270288, 0.16948299244681553, 0.1697876098666023, 0.17009222728638904, 0.1703968447061758, 0.17070146212596254, 0.1710060795457493, 0.17131069696553605, 0.1716153143853228, 0.17191993180510956, 0.1722245492248963, 0.17252916664468307, 0.1728337840644698, 0.17313840148425655, 0.17344301890404332, 0.17374763632383006, 0.17405225374361682, 0.17435687116340357, 0.1746614885831903, 0.17496610600297707, 0.1752707234227638, 0.17557534084255058, 0.17587995826233732, 0.1761845756821241, 0.17648919310191083, 0.17679381052169757, 0.17709842794148434, 0.17740304536127108, 0.17770766278105785, 0.17801228020084459, 0.17831689762063133, 0.1786215150404181, 0.1804492195591386, 0.18075383697892536, 0.1810584543987121, 0.18136307181849887, 0.1816676892382856, 0.18197230665807235, 0.18227692407785911, 0.18258154149764586, 0.18288615891743262, 0.18319077633721936, 0.1834953937570061, 0.18380001117679287, 0.1841046285965796, 0.18440924601636638, 0.1673506705083083, 0.16765528792809503, 0.16795990534788177, 0.16826452276766854, 0.16856914018745528, 0.16887375760724205, 0.1691783750270288, 0.16948299244681553, 0.1697876098666023, 0.17009222728638904, 0.1703968447061758, 0.17070146212596254, 0.1710060795457493, 0.17131069696553605, 0.1716153143853228, 0.17191993180510956, 0.1722245492248963, 0.17252916664468307, 0.1728337840644698, 0.17313840148425655, 0.17344301890404332, 0.17374763632383006, 0.17405225374361682, 0.17435687116340357, 0.1746614885831903, 0.17496610600297707, 0.1752707234227638, 0.17557534084255058, 0.17587995826233732, 0.1761845756821241, 0.17648919310191083, 0.17679381052169757, 0.17709842794148434, 0.17740304536127108, 0.17770766278105785, 0.17801228020084459, 0.17831689762063133, 0.1786215150404181, 0.17892613246020483, 0.1792307498799916, 0.17953536729977834, 0.1798399847195651, 0.5277130781160355, 0.5280176955358222, 0.5283223129556089, 0.5286269303753958, 0.5289315477951825, 0.5292361652149692, 0.529540782634756, 0.5298454000545427, 0.5301500174743294, 0.5304546348941163, 0.530759252313903, 0.5310638697336897, 0.5313684871534765, 0.5316731045732632, 0.53197772199305, 0.5322823394128368, 0.5325869568326235, 0.5328915742524103, 0.533196191672197, 0.5335008090919837, 0.5338054265117705, 0.5341100439315573, 0.534414661351344, 0.5347192787711308, 0.5350238961909175, 0.5353285136107042, 0.535633131030491, 0.5359377484502778, 0.5179653206828594, 0.5182699381026462, 0.5185745555224329, 0.5188791729422196, 0.5191837903620065, 0.5194884077817932, 0.5197930252015799, 0.5200976426213667, 0.5204022600411534, 0.5207068774609401, 0.521011494880727, 0.5213161123005137, 0.5216207297203005, 0.5219253471400872, 0.5222299645598739, 0.5225345819796607, 0.5228391993994475, 0.5231438168192342, 0.523448434239021, 0.5237530516588077, 0.5240576690785944, 0.5243622864983812, 0.524666903918168, 0.5249715213379547, 0.5252761387577415, 0.5255807561775282, 0.5258853735973149, 0.5261899910171017, 0.5264946084368884, 0.5267992258566753, 0.527103843276462, 0.5274084606962487, 0.5277130781160355, 0.5280176955358222, 0.5283223129556089, 0.5286269303753958, 0.5106545026079774, 0.5109591200277641, 0.5112637374475509, 0.5115683548673376, 0.5118729722871244, 0.5121775897069112, 0.5124822071266979, 0.5127868245464846, 0.5130914419662714, 0.5133960593860581, 0.5137006768058449, 0.5140052942256317, 0.5143099116454184, 0.5146145290652051, 0.5149191464849919, 0.5152237639047786, 0.5155283813245654, 0.5158329987443522, 0.5161376161641389, 0.5164422335839257, 0.5167468510037124, 0.5170514684234991, 0.517356085843286, 0.5176607032630727, 0.5179653206828594, 0.5182699381026462, 0.5185745555224329, 0.5188791729422196, 0.5301500174743294, 0.5304546348941163, 0.530759252313903, 0.5310638697336897, 0.5313684871534765, 0.5316731045732632, 0.53197772199305, 0.5322823394128368, 0.5325869568326235, 0.5328915742524103, 0.533196191672197, 0.5335008090919837, 0.5338054265117705, 0.5341100439315573, 0.534414661351344, 0.5347192787711308, 0.5350238961909175, 0.5353285136107042, 0.535633131030491, 0.5359377484502778, 0.5362423658700645, 0.5365469832898513, 0.536851600709638, 0.5371562181294248, 0.5374608355492115, 0.5377654529689982, 0.5380700703887851, 0.5383746878085718, 0.5204022600411534, 0.5207068774609401, 0.521011494880727, 0.5213161123005137, 0.5216207297203005, 0.5219253471400872, 0.5222299645598739, 0.5225345819796607, 0.5228391993994475, 0.5231438168192342, 0.523448434239021, 0.5237530516588077, 0.5240576690785944, 0.5243622864983812, 0.524666903918168, 0.5249715213379547, 0.5252761387577415, 0.5255807561775282, 0.5258853735973149, 0.5261899910171017, 0.5264946084368884, 0.5267992258566753, 0.527103843276462, 0.5274084606962487, 0.5277130781160355, 0.5280176955358222, 0.5283223129556089, 0.5286269303753958, 0.5289315477951825, 0.5292361652149692, 0.529540782634756, 0.5298454000545427, 0.5301500174743294, 0.5304546348941163, 0.530759252313903, 0.5310638697336897, 0.5313684871534765, 0.5316731045732632, 0.53197772199305, 0.5322823394128368, 0.5121775897069112, 0.5124822071266979, 0.5127868245464846, 0.5130914419662714, 0.5133960593860581, 0.5137006768058449, 0.5140052942256317, 0.5143099116454184, 0.5146145290652051, 0.5149191464849919, 0.5152237639047786, 0.5155283813245654, 0.5158329987443522, 0.5161376161641389, 0.5164422335839257, 0.5167468510037124, 0.5170514684234991, 0.517356085843286, 0.5176607032630727, 0.5179653206828594, 0.5182699381026462, 0.5185745555224329, 0.5188791729422196, 0.5191837903620065, 0.5194884077817932, 0.5197930252015799, 0.5200976426213667, 0.5204022600411534, 0.5207068774609401, 0.521011494880727, 0.5213161123005137, 0.5216207297203005, 0.5219253471400872, 0.5222299645598739, 0.5225345819796607]\n",
      "theta: 21.29301687433383 -- correct_answer: 20 -- FAIL\n",
      "[-0.0065858761899269085, -0.006281258770140157, -0.0059766413503534056, -0.005672023930566654, -0.005367406510779903, -0.00506278909099315, -0.004758171671206399, -0.0044535542514196474, -0.004148936831632896, -0.003844319411846144, -0.002016614893125634, -0.0017119974733388825, -0.0014073800535521308, -0.0011027626337653793, -0.0007981452139786276, -0.000493527794191876, -0.00018891037440512431, 0.00011570704538162732, 0.000420324465168379, 0.0007249418849551307, 0.0010295593047418823, 0.001334176724528634, 0.0016387941443153854, 0.001943411564102137, 0.0022480289838888888, 0.003771116082822647, 0.004075733502609398, 0.004380350922396151, 0.004684968342182902, 0.0049895857619696535, 0.005294203181756405, 0.005598820601543157, 0.005903438021329909, 0.00620805544111666, 0.006512672860903412, 0.006817290280690163, -0.0065858761899269085, -0.006281258770140157, -0.0059766413503534056, -0.005672023930566654, -0.005367406510779903, -0.00506278909099315, -0.004758171671206399, -0.0044535542514196474, -0.004148936831632896, -0.003844319411846144, -0.002016614893125634, -0.0017119974733388825, -0.0014073800535521308, -0.0011027626337653793, -0.0007981452139786276, -0.000493527794191876, -0.00018891037440512431, 0.00011570704538162732, 0.000420324465168379, 0.0007249418849551307, 0.0010295593047418823, 0.001334176724528634, 0.0016387941443153854, 0.001943411564102137, 0.0022480289838888888, 0.003771116082822647, 0.004075733502609398, 0.004380350922396151, 0.004684968342182902, 0.0049895857619696535, 0.005294203181756405, 0.005598820601543157, 0.005903438021329909, 0.00620805544111666, 0.006512672860903412, 0.006817290280690163, 1.058356623384557, 1.0589658582241304, 1.0528735098283952, 1.0531781272481822, 1.0534827446679689, 1.0537873620877556, 1.0540919795075423, 1.054396596927329, 1.0547012143471157, 1.0550058317669027, 1.0553104491866894, 1.0479996311118074, 1.048304248531594, 1.0486088659513808, 1.0489134833711675, 1.0492181007909542, 1.049522718210741, 1.0498273356305279, 1.0501319530503146, 1.0504365704701013, 1.050741187889888, 1.043430369815006, 1.0437349872347927, 1.0440396046545795, 1.0443442220743662, 1.044648839494153, 1.0449534569139398, 1.0452580743337265, 1.0455626917535132, 1.0458673091733, 1.0461719265930867, 1.0388611085182047, 1.0391657259379914, 1.0394703433577783, 1.039774960777565, 1.0400795781973518, 1.0403841956171385, 1.0406888130369252, 1.0409934304567119, 1.054396596927329, 1.0547012143471157, 1.0550058317669027, 1.0553104491866894, 1.055615066606476, 1.0559196840262628, 1.0562243014460495, 1.0565289188658362, 1.0568335362856232, 1.049522718210741, 1.0498273356305279, 1.0501319530503146, 1.0504365704701013, 1.050741187889888, 1.0510458053096747, 1.0513504227294614, 1.0516550401492484, 1.051959657569035, 1.0522642749888218, 1.044648839494153, 1.0449534569139398, 1.0452580743337265, 1.0455626917535132, 1.0458673091733, 1.0461719265930867, 1.0464765440128736, 1.0467811614326603, 1.047085778852447, 1.0473903962722337, 1.0476950136920204, 1.0400795781973518, 1.0403841956171385, 1.0406888130369252, 1.0409934304567119, 1.0412980478764988, 1.0416026652962855, 1.0419072827160722, 1.042211900135859, 1.0425165175556457]\n",
      "theta: 61.051617234770276 -- correct_answer: 60 -- FAIL\n",
      "[1.5707963267948966, 1.5711009442146833, 1.57140556163447, 1.5717101790542567, 1.5720147964740436, 1.5723194138938303, 1.572624031313617, 1.5729286487334038, 1.5732332661531905, 1.5735378835729772, 1.5738425009927641, 1.5741471184125508, 1.5744517358323376, 1.5753655880916977, 1.5756702055114846, 1.5759748229312713, 1.576279440351058, 1.5765840577708448, 1.5768886751906315, 1.5784117622895653, 1.578716379709352, 1.579020997129139, 1.5793256145489256, 1.5707963267948966, 1.5711009442146833, 1.57140556163447, 1.5717101790542567, 1.5720147964740436, 1.5723194138938303, 1.572624031313617, 1.5729286487334038, 1.5732332661531905, 1.5735378835729772, 1.5738425009927641, 1.5741471184125508, 1.5744517358323376, 1.5753655880916977, 1.5756702055114846, 1.5759748229312713, 1.576279440351058, 1.5765840577708448, 1.5768886751906315, 1.5784117622895653, 1.578716379709352, 1.579020997129139, 1.5793256145489256, -0.535097099519941, -0.5347924821001543, -0.5344878646803675, -0.5323555427418603, -0.5320509253220735, -0.5317463079022867, -0.5314416904825, -0.5311370730627132, -0.5308324556429265, -0.5293093685439927, -0.529004751124206, -0.5287001337044193, -0.5283955162846324, -0.5280908988648457, -0.527786281445059, -0.5274816640252722, -0.5271770466054855, -0.5259585769263384, -0.5256539595065517, -0.525349342086765, -0.5250447246669782, -0.5247401072471914, -0.5244354898274047, -0.5241308724076179, -0.5238262549878312, -0.5226077853086842, -0.5223031678888974, -0.5219985504691107, -0.521693933049324, -0.5213893156295372, -0.5210846982097505, -0.5207800807899636, -0.5332693950012205, -0.5329647775814338, -0.532660160161647, -0.5323555427418603, -0.5320509253220735, -0.51925699369103, -0.5189523762712431, -0.5186477588514564, -0.5183431414316697, -0.5180385240118829, -0.5177339065920962, -0.5174292891723095, -0.5302232208033529, -0.5299186033835662, -0.5296139859637795, -0.5293093685439927, -0.529004751124206, -0.5287001337044193, -0.5283955162846324, -0.5156015846535889, -0.5152969672338021, -0.5149923498140154, -0.5146877323942286, -0.5271770466054855, -0.5268724291856988, -0.5265678117659119, -0.5262631943461252, -0.5259585769263384, -0.5256539595065517, -0.525349342086765, -0.5250447246669782, -0.5238262549878312, -0.5235216375680445, -0.5232170201482577, -0.522912402728471, -0.5226077853086842, -0.5223031678888974, -0.5219985504691107, -0.521693933049324, -0.5204754633701769, -0.5201708459503902, -0.5198662285306034, -0.5195616111108167, -0.51925699369103, -0.5189523762712431, -0.5186477588514564, -0.5183431414316697, -0.5168200543327359, -0.5165154369129492, -0.5162108194931624, -0.5159062020733757, -0.5156015846535889, -0.5152969672338021, 1.5698092712065128, 1.5701138886262995, 1.5704185060460862, 1.5707231234658732, 1.567372331848219, 1.5676769492680056, 1.5679815666877923, 1.568286184107579, 1.5685908015273657, 1.5688954189471527, 1.5692000363669394, 1.564630775070138, 1.5649353924899247, 1.5652400099097115, 1.5655446273294984, 1.565849244749285, 1.5661538621690718, 1.5621938357118441, 1.5624984531316308, 1.5628030705514175, 1.5631076879712043, 1.5698092712065128, 1.5701138886262995, 1.5704185060460862, 1.5707231234658732, 1.567372331848219, 1.5676769492680056, 1.5679815666877923, 1.568286184107579, 1.5685908015273657, 1.5688954189471527, 1.5692000363669394, 1.564630775070138, 1.5649353924899247, 1.5652400099097115, 1.5655446273294984, 1.565849244749285, 1.5661538621690718, 1.5621938357118441, 1.5624984531316308, 1.5628030705514175, 1.5631076879712043]\n",
      "theta: 121.14749762274289 -- correct_answer: 120 -- FAIL\n",
      "[-0.5335740124210072, -0.5332693950012205, -0.5329647775814338, -0.5317463079022867, -0.5314416904825, -0.5311370730627132, -0.5308324556429265, -0.5296139859637795, -0.5293093685439927, -0.529004751124206, -0.5287001337044193, -0.5283955162846324, -0.5274816640252722, -0.5271770466054855, -0.5268724291856988, -0.5265678117659119, -0.5262631943461252, -0.5250447246669782, -0.5247401072471914, -0.5244354898274047, -0.5241308724076179, -0.5238262549878312, -0.5320509253220735, -0.5317463079022867, -0.5314416904825, -0.522912402728471, -0.5226077853086842, -0.5223031678888974, -0.5219985504691107, -0.521693933049324, -0.5302232208033529, -0.5299186033835662, -0.5296139859637795, -0.5293093685439927, -0.5207800807899636, -0.5204754633701769, -0.5201708459503902, -0.5198662285306034, -0.5195616111108167, -0.5280908988648457, -0.527786281445059, -0.5274816640252722, -0.5271770466054855, -0.5268724291856988, -0.5183431414316697, -0.5180385240118829, -0.5177339065920962, -0.5174292891723095, -0.5259585769263384, -0.5256539595065517, -0.525349342086765, -0.5250447246669782, -0.5247401072471914, -0.5162108194931624, -0.5159062020733757, -0.5156015846535889, -0.5152969672338021, -0.5235216375680445, -0.5232170201482577, -0.522912402728471, -0.5226077853086842, -0.5213893156295372, -0.5210846982097505, -0.5207800807899636, -0.5204754633701769, -0.5201708459503902, -0.51925699369103, -0.5189523762712431, -0.5186477588514564, -0.5183431414316697, -0.5180385240118829, -0.5168200543327359, -0.5165154369129492, -0.5162108194931624, -0.5159062020733757, -0.5143831149744419, -0.5140784975546552, -0.5137738801348684, 0.39825067470666603, 0.3985552921264528, 0.4040384056826143, 0.40434302310240106, 0.4046476405221878, 0.40495225794197454]\n",
      "theta: 53.77359425395289 -- correct_answer: 53 -- FAIL\n",
      "[1.2664103210989082, 1.2633641469010406, 1.2636687643208275, 1.2639733817406142, 1.264277999160401, 1.2645826165801877, 1.2648872339999744, 1.2609272075427467, 1.2612318249625334, 1.26153644238232, 1.261841059802107, 1.2621456772218937, 1.2624502946416805, 1.2627549120614672, 1.2587948856042395, 1.2590995030240262, 1.259404120443813, 1.2597087378635996, 1.2600133552833863, 1.2603179727031733, 1.2563579462459453, 1.2566625636657323, 1.256967181085519, 1.2572717985053057, 1.2575764159250924, 1.257881033344879, 1.2539210068876514, 1.2542256243074381, 1.2545302417272248, 1.2548348591470115, 1.2551394765667985, 1.2554440939865852, 1.255748711406372, 1.265496468839548, 1.2658010862593347, 1.2661057036791215, 1.2514840675293575, 1.2517886849491442, 1.252093302368931, 1.2523979197887176, 1.2527025372085043, 1.253007154628291, 1.253311772048078, 1.2627549120614672, 1.2630595294812539, 1.2633641469010406, 1.2636687643208275, 1.2639733817406142, 1.264277999160401, 1.2490471281710633, 1.24935174559085, 1.2496563630106368, 1.2499609804304237, 1.2502655978502104, 1.2505702152699971, 1.2508748326897838, 1.2603179727031733, 1.26062259012296, 1.2609272075427467, 1.2612318249625334, 1.26153644238232, 1.261841059802107, 1.2621456772218937, 1.2478286584919163, 1.2481332759117032, 1.257881033344879, 1.2581856507646658, 1.2584902681844528, 1.2587948856042395, 1.2590995030240262, 1.259404120443813, 1.2597087378635996, 1.255748711406372, 1.2560533288261586, 1.2563579462459453, 1.2566625636657323, 1.256967181085519, 1.2572717985053057, 1.253311772048078, 1.2536163894678647, 1.2539210068876514, 1.2542256243074381, 1.2545302417272248, 1.2548348591470115, 1.2551394765667985, 1.2508748326897838, 1.2511794501095705, 1.2514840675293575, 1.2517886849491442, 1.252093302368931, 1.2523979197887176, 1.2527025372085043, 1.2487425107512766, 1.2490471281710633, 1.24935174559085, 1.2496563630106368, 1.2499609804304237, 1.2472194236523428, -0.009327432968007674, -0.009022815548220922, -0.00871819812843417, -0.008413580708647419, -0.008108963288860667, -0.007804345869073915, -0.007499728449287164, -0.007195111029500412, -0.006890493609713661, -0.0065858761899269085, -0.006281258770140157, -0.0059766413503534056, -0.005672023930566654, -0.005367406510779903, -0.00506278909099315, -0.004758171671206399, -0.0044535542514196474, -0.004148936831632896, -0.003844319411846144, -0.002930467152485889, -0.0026258497326991375, -0.002321232312912386, -0.002016614893125634, -0.0017119974733388825, -0.0014073800535521308, -0.0011027626337653793, -0.0007981452139786276, -0.000493527794191876, -0.00018891037440512431, 0.00011570704538162732, 0.000420324465168379, 0.0007249418849551307, 0.0010295593047418823, 0.001334176724528634, 0.0016387941443153854, 0.001943411564102137, 0.0022480289838888888, 0.0025526464036756407, 0.002857263823462392, 0.003771116082822647, 0.004075733502609398, 0.004380350922396151, 0.004684968342182902, 0.0049895857619696535, 0.005294203181756405, 0.005598820601543157, 0.005903438021329909, 0.00620805544111666, 0.006512672860903412, 0.006817290280690163, 0.007121907700476915, 0.007426525120263667, 0.007731142540050418, 0.00803575995983717, 0.008340377379623922, 0.008644994799410673, 0.008949612219197425, 0.009254229638984177, -0.009327432968007674, -0.009022815548220922, -0.00871819812843417, -0.008413580708647419, -0.008108963288860667, -0.007804345869073915, -0.007499728449287164, -0.007195111029500412, -0.006890493609713661, -0.0065858761899269085, -0.006281258770140157, -0.0059766413503534056, -0.005672023930566654, -0.005367406510779903, -0.00506278909099315, -0.004758171671206399, -0.0044535542514196474, -0.004148936831632896, -0.003844319411846144, -0.002930467152485889, -0.0026258497326991375, -0.002321232312912386, -0.002016614893125634, -0.0017119974733388825, -0.0014073800535521308, -0.0011027626337653793, -0.0007981452139786276, -0.000493527794191876, -0.00018891037440512431, 0.00011570704538162732, 0.000420324465168379, 0.0007249418849551307, 0.0010295593047418823, 0.001334176724528634, 0.0016387941443153854, 0.001943411564102137, 0.0022480289838888888, 0.0025526464036756407, 0.002857263823462392, 0.0031618812432491436, 0.003771116082822647, 0.004075733502609398, 0.004380350922396151, 0.004684968342182902, 0.0049895857619696535, 0.005294203181756405, 0.005598820601543157, 0.005903438021329909, 0.00620805544111666, 0.006512672860903412, 0.006817290280690163, 0.007121907700476915, 0.007426525120263667, 0.007731142540050418, 0.00803575995983717, 0.008340377379623922, 0.008644994799410673, 0.008949612219197425, 0.009254229638984177, 0.009558847058770928]\n",
      "theta: 73.09438907353285 -- correct_answer: 72 -- FAIL\n",
      "[-0.8872348367934259, -0.8869302193736391, -0.8866256019538524, -0.8863209845340656, -0.8860163671142789, -0.8857117496944922, -0.8854071322747054, -0.8851025148549186, -0.8847978974351319, -0.8844932800153451, -0.8841886625955584, -0.8838840451757717, -0.8835794277559849, -0.8832748103361981, -0.8829701929164114, -0.8832748103361981, -0.8829701929164114, -0.8826655754966246, -0.8823609580768379, -0.8820563406570511, -0.8817517232372644, -0.8814471058174776, -0.8811424883976908, -0.8808378709779041, -0.8805332535581174, -0.8808378709779041, -0.8805332535581174, -0.8802286361383306, -0.8799240187185439, -0.8796194012987572, -0.8793147838789703, -0.8790101664591836, -0.8787055490393969, -0.8784009316196101, -0.8780963141998234, -0.8777916967800367, -0.8872348367934259, -0.8869302193736391, -0.8866256019538524, -0.8863209845340656, -0.8860163671142789, -0.8784009316196101, -0.8780963141998234, -0.8777916967800367, -0.8774870793602498, -0.8771824619404631, -0.8768778445206763, -0.8765732271008896, -0.8762686096811029, -0.875963992261316, -0.8756593748415293, -0.8753547574217426, -0.8857117496944922, -0.8854071322747054, -0.8851025148549186, -0.8847978974351319, -0.8844932800153451, -0.8841886625955584, -0.8838840451757717, -0.8835794277559849, -0.8832748103361981, -0.8756593748415293, -0.8753547574217426, -0.8750501400019558, -0.8747455225821691, -0.8744409051623824, -0.8741362877425956, -0.8738316703228088, -0.8735270529030221, -0.8732224354832353, -0.8729178180634486, -0.8832748103361981, -0.8829701929164114, -0.8826655754966246, -0.8823609580768379, -0.8820563406570511, -0.8817517232372644, -0.8814471058174776, -0.8811424883976908, -0.8808378709779041, -0.8805332535581174, -0.8732224354832353, -0.8729178180634486, -0.8726132006436619, -0.8723085832238751, -0.8720039658040883, -0.8716993483843015, -0.8713947309645148, -0.8710901135447281, -0.8707854961249413, -0.8704808787051546, -0.8701762612853678, -0.8808378709779041, -0.8805332535581174, -0.8802286361383306, -0.8799240187185439, -0.8796194012987572, -0.8793147838789703, -0.8790101664591836, -0.8787055490393969, -0.8784009316196101, -0.8780963141998234, -0.8707854961249413, -0.8704808787051546, -0.8701762612853678, -0.869871643865581, -0.8695670264457943, -0.8692624090260076, -0.8689577916062208, -0.8686531741864341, -0.8683485567666474, -0.8680439393468605, -0.8677393219270738, -0.8784009316196101, -0.8780963141998234, -0.8777916967800367, -0.8774870793602498, -0.8771824619404631, -0.8768778445206763, -0.8765732271008896, -0.8762686096811029, -0.875963992261316, -0.8756593748415293, -0.8753547574217426, -0.8680439393468605, -0.8677393219270738, -0.8674347045072871, -0.8671300870875003, -0.8668254696677136, -0.8665208522479267, -0.86621623482814, -0.8659116174083533, -0.8656069999885665, -0.8653023825687798, -0.875963992261316, -0.8756593748415293, -0.8753547574217426, -0.8750501400019558, -0.8747455225821691, -0.8744409051623824, -0.8741362877425956, -0.8738316703228088, -0.8735270529030221, -0.8732224354832353, -0.8729178180634486, -0.8656069999885665, -0.8653023825687798, -0.8649977651489931, -0.8646931477292062, -0.8643885303094195, -0.8640839128896328, -0.863779295469846, -0.8634746780500593, -0.8631700606302726, -0.8628654432104857, -0.862560825790699, -0.8732224354832353, -0.8729178180634486, -0.8726132006436619, -0.8723085832238751, -0.8720039658040883, -0.8716993483843015, -0.8713947309645148, -0.8710901135447281, -0.8707854961249413, -0.8704808787051546, -0.8701762612853678, -0.8628654432104857, -0.862560825790699, -0.8622562083709123, -0.8619515909511255, -0.8616469735313388, -0.861342356111552, -0.8610377386917653, -0.8607331212719785, -0.8604285038521917, -0.8707854961249413, -0.8704808787051546, -0.8701762612853678, -0.869871643865581, -0.8695670264457943, -0.8692624090260076, -0.8689577916062208, -0.8686531741864341, -0.8683485567666474, -0.8680439393468605, -0.8677393219270738, -0.8598192690126183, -0.8595146515928315, -0.8592100341730448, -0.8680439393468605, -0.8677393219270738, -0.8674347045072871, -0.8671300870875003, -0.8668254696677136, -0.8665208522479267, -0.86621623482814, -0.8659116174083533, -0.8656069999885665, -0.8653023825687798, -0.8656069999885665, -0.8653023825687798, -0.8649977651489931, -0.8646931477292062, -0.8643885303094195, -0.8640839128896328, -0.863779295469846, -0.8634746780500593, -0.8631700606302726, -0.8628654432104857, -0.862560825790699, -0.8628654432104857, -0.862560825790699, -0.8622562083709123, -0.8619515909511255, -0.8616469735313388, -0.861342356111552, -0.8610377386917653, -0.8607331212719785, -0.8604285038521917, -0.8598192690126183, -0.8595146515928315, -0.8592100341730448, 0.7969948772075239, 0.7972994946273106, 0.7976041120470975, 0.7979087294668842, 0.7982133468866709, 0.7985179643064577, 0.7988225817262444, 0.7991271991460311, 0.799431816565818, 0.7997364339856047, 0.7924256159107227, 0.7927302333305094, 0.7930348507502961, 0.7933394681700829, 0.7936440855898697, 0.7939487030096564, 0.7942533204294432, 0.7945579378492299, 0.7948625552690166, 0.7951671726888034, 0.7954717901085901, 0.795776407528377, 0.7960810249481637, 0.7963856423679504, 0.7966902597877372, 0.7969948772075239, 0.7972994946273106, 0.7872471197743479, 0.7875517371941346, 0.7878563546139213, 0.7881609720337082, 0.7884655894534949, 0.7887702068732816, 0.7890748242930684, 0.7893794417128551, 0.7896840591326418, 0.7899886765524287, 0.7902932939722154, 0.7905979113920021, 0.7909025288117889, 0.7912071462315756, 0.7915117636513624, 0.7918163810711492, 0.7921209984909359, 0.7924256159107227, 0.7927302333305094, 0.7930348507502961, 0.7933394681700829, 0.7829824758973334, 0.7832870933171201, 0.7835917107369068, 0.7838963281566936, 0.7842009455764803, 0.7845055629962671, 0.7848101804160539, 0.7851147978358406, 0.7854194152556273, 0.7857240326754141, 0.7860286500952008, 0.7863332675149877, 0.7866378849347744, 0.7869425023545611, 0.7872471197743479, 0.7875517371941346, 0.7878563546139213, 0.7881609720337082, 0.7884655894534949, 0.7887702068732816, 0.7790224494401056, 0.7793270668598923, 0.7796316842796791, 0.7799363016994658, 0.7802409191192525, 0.7805455365390394, 0.7808501539588261, 0.7811547713786129, 0.7814593887983996, 0.7817640062181863, 0.7820686236379731, 0.7823732410577598, 0.7826778584775466, 0.7829824758973334, 0.7832870933171201, 0.7835917107369068, 0.7838963281566936, 0.7842009455764803, 0.7845055629962671, 0.7848101804160539, 0.7851147978358406, 0.7854194152556273, 0.7945579378492299, 0.7948625552690166, 0.7951671726888034, 0.7954717901085901, 0.795776407528377, 0.7960810249481637, 0.7963856423679504, 0.7966902597877372, 0.7969948772075239, 0.7972994946273106, 0.7976041120470975, 0.7979087294668842, 0.7982133468866709, 0.7985179643064577, 0.7988225817262444, 0.7991271991460311, 0.799431816565818, 0.774757805563091, 0.7750624229828778, 0.7753670404026646, 0.7756716578224513, 0.7759762752422381, 0.7762808926620248, 0.7765855100818115, 0.7768901275015984, 0.7771947449213851, 0.7774993623411718, 0.7778039797609586, 0.7781085971807453, 0.778413214600532, 0.7787178320203189, 0.7790224494401056, 0.7793270668598923, 0.7796316842796791, 0.7905979113920021, 0.7909025288117889, 0.7912071462315756, 0.7915117636513624, 0.7918163810711492, 0.7921209984909359, 0.7924256159107227, 0.7927302333305094, 0.7930348507502961, 0.7933394681700829, 0.7936440855898697, 0.7939487030096564, 0.7942533204294432, 0.7945579378492299, 0.7948625552690166, 0.7951671726888034, 0.7954717901085901, 0.795776407528377, 0.7714070139454368, 0.7717116313652236, 0.7720162487850103, 0.772320866204797, 0.7726254836245838, 0.7729301010443705, 0.7732347184641573, 0.7735393358839441, 0.7738439533037308, 0.7741485707235175, 0.7744531881433043, 0.774757805563091, 0.7750624229828778, 0.7753670404026646, 0.7851147978358406, 0.7854194152556273, 0.7857240326754141, 0.7860286500952008, 0.7863332675149877, 0.7866378849347744, 0.7869425023545611, 0.7872471197743479, 0.7875517371941346, 0.7878563546139213, 0.7881609720337082, 0.7884655894534949, 0.7887702068732816, 0.7890748242930684, 0.7893794417128551, 0.7896840591326418, 0.7899886765524287, 0.7902932939722154, 0.7905979113920021, 0.7909025288117889, 0.7912071462315756, 0.7814593887983996, 0.7817640062181863, 0.7820686236379731, 0.7823732410577598, 0.7826778584775466, 0.7829824758973334, 0.7832870933171201, 0.7835917107369068, 0.7838963281566936, 0.7842009455764803, 0.7845055629962671, 0.7848101804160539, 0.7851147978358406, 0.7854194152556273, 0.7857240326754141, 0.7860286500952008, 0.7863332675149877, 0.7866378849347744, 0.7869425023545611, 0.7872471197743479, 0.7765855100818115, 0.7768901275015984, 0.7771947449213851, 0.7774993623411718, 0.7778039797609586, 0.7781085971807453, 0.778413214600532, 0.7787178320203189, 0.7790224494401056, 0.7793270668598923, 0.7796316842796791, 0.7799363016994658, 0.7802409191192525, 0.7805455365390394, 0.7808501539588261, 0.7811547713786129, 0.7814593887983996, 0.7817640062181863, 0.7820686236379731, 0.7823732410577598, 0.7826778584775466, 0.7726254836245838, 0.7729301010443705, 0.7732347184641573, 0.7735393358839441, 0.7738439533037308, 0.7741485707235175, 0.7744531881433043, 0.774757805563091, 0.7750624229828778, 0.7753670404026646, 0.7756716578224513, 0.7759762752422381, 0.7762808926620248, 0.7765855100818115, 0.7768901275015984, 0.7771947449213851, 0.7774993623411718, 0.7778039797609586, 0.7714070139454368, 0.7717116313652236, 0.7720162487850103, 0.772320866204797]\n",
      "theta: 96.65633397545963 -- correct_answer: 95 -- FAIL\n",
      "[-0.537534038878235, -0.5372294214584483, -0.5369248040386615, -0.5366201866188748, -0.536315569199088, -0.5360109517793012, -0.5357063343595145, -0.5354017169397277, -0.5354017169397277, -0.535097099519941, -0.5347924821001543, -0.5344878646803675, -0.5341832472605808, -0.533878629840794, -0.5335740124210072, -0.5332693950012205, -0.5329647775814338, -0.532660160161647, -0.5323555427418603, -0.532660160161647, -0.5323555427418603, -0.5320509253220735, -0.5317463079022867, -0.5314416904825, -0.5311370730627132, -0.5308324556429265, -0.5305278382231398, -0.5302232208033529, -0.5299186033835662, -0.5296139859637795, -0.5293093685439927, -0.5296139859637795, -0.5293093685439927, -0.529004751124206, -0.5287001337044193, -0.5283955162846324, -0.5280908988648457, -0.527786281445059, -0.5274816640252722, -0.5271770466054855, -0.5268724291856988, -0.5265678117659119, -0.5262631943461252, -0.537534038878235, -0.5372294214584483, -0.5369248040386615, -0.5265678117659119, -0.5262631943461252, -0.5259585769263384, -0.5256539595065517, -0.525349342086765, -0.5250447246669782, -0.5247401072471914, -0.5244354898274047, -0.5241308724076179, -0.5238262549878312, -0.5235216375680445, -0.5232170201482577, -0.5360109517793012, -0.5357063343595145, -0.5354017169397277, -0.535097099519941, -0.5347924821001543, -0.5344878646803675, -0.5341832472605808, -0.533878629840794, -0.5335740124210072, -0.5332693950012205, -0.5235216375680445, -0.5232170201482577, -0.522912402728471, -0.5226077853086842, -0.5223031678888974, -0.5219985504691107, -0.521693933049324, -0.5213893156295372, -0.5210846982097505, -0.5207800807899636, -0.5204754633701769, -0.5201708459503902, -0.5335740124210072, -0.5332693950012205, -0.5329647775814338, -0.532660160161647, -0.5323555427418603, -0.5320509253220735, -0.5317463079022867, -0.5314416904825, -0.5311370730627132, -0.5308324556429265, -0.5305278382231398, -0.5302232208033529, -0.5204754633701769, -0.5201708459503902, -0.5198662285306034, -0.5195616111108167, -0.51925699369103, -0.5189523762712431, -0.5186477588514564, -0.5183431414316697, -0.5180385240118829, -0.5177339065920962, -0.5174292891723095, -0.5171246717525226, -0.5305278382231398, -0.5302232208033529, -0.5299186033835662, -0.5296139859637795, -0.5293093685439927, -0.529004751124206, -0.5287001337044193, -0.5283955162846324, -0.5280908988648457, -0.527786281445059, -0.5274816640252722, -0.5271770466054855, -0.5174292891723095, -0.5171246717525226, -0.5168200543327359, -0.5165154369129492, -0.5162108194931624, -0.5159062020733757, -0.5156015846535889, -0.5152969672338021, -0.5149923498140154, -0.5146877323942286, -0.5143831149744419, -0.5140784975546552, -0.527786281445059, -0.5274816640252722, -0.5271770466054855, -0.5268724291856988, -0.5265678117659119, -0.5262631943461252, -0.5259585769263384, -0.5256539595065517, -0.525349342086765, -0.5250447246669782, -0.5247401072471914, -0.5244354898274047, -0.5241308724076179, -0.5143831149744419, -0.5140784975546552, -0.5137738801348684, -0.5134692627150816, -0.5131646452952949, -0.5128600278755081, -0.5125554104557214, -0.5122507930359347, -0.5119461756161479, -0.5116415581963611, -0.5244354898274047, -0.5241308724076179, -0.5238262549878312, -0.5235216375680445, -0.5232170201482577, -0.522912402728471, -0.5226077853086842, -0.5223031678888974, -0.5219985504691107, -0.521693933049324, -0.5213893156295372, -0.5210846982097505, -0.5104230885172141, -0.521693933049324, -0.5213893156295372, -0.5210846982097505, -0.5207800807899636, -0.5204754633701769, -0.5201708459503902, -0.5198662285306034, -0.5195616111108167, -0.51925699369103, -0.5189523762712431, -0.5186477588514564, -0.5183431414316697, -0.5180385240118829, -0.5183431414316697, -0.5180385240118829, -0.5177339065920962, -0.5174292891723095, -0.5171246717525226, -0.5168200543327359, -0.5165154369129492, -0.5162108194931624, -0.5159062020733757, -0.5156015846535889, -0.5152969672338021, -0.5149923498140154, -0.5152969672338021, -0.5149923498140154, -0.5146877323942286, -0.5143831149744419, -0.5140784975546552, -0.5137738801348684, -0.5134692627150816, -0.5131646452952949, -0.5128600278755081, -0.5125554104557214, -0.5119461756161479, -0.5116415581963611, -0.5113369407765744, -0.5110323233567876, -0.5107277059370009, 1.3867342019146751, 1.3870388193344618, 1.3873434367542485, 1.3876480541740353, 1.3879526715938222, 1.384601879976168, 1.3849064973959546, 1.3852111148157413, 1.385515732235528, 1.3858203496553148, 1.3861249670751017, 1.3824695580376605, 1.3827741754574474, 1.3830787928772341, 1.3833834102970208, 1.3836880277168075, 1.3839926451365943, 1.3803372360991533, 1.38064185351894, 1.380946470938727, 1.3812510883585136, 1.3815557057783003, 1.381860323198087, 1.378204914160646, 1.3785095315804328, 1.3788141490002195, 1.3791187664200064, 1.3794233838397931, 1.3797280012595798, 1.3760725922221388, 1.3763772096419256, 1.3766818270617123, 1.376986444481499, 1.3772910619012857, 1.3775956793210726, 1.3867342019146751, 1.3870388193344618, 1.3873434367542485, 1.3876480541740353, 1.3736356528638447, 1.3739402702836316, 1.3742448877034183, 1.374549505123205, 1.3748541225429918, 1.3751587399627785, 1.3754633573825652, 1.3842972625563812, 1.384601879976168, 1.3849064973959546, 1.3852111148157413, 1.385515732235528, 1.3858203496553148, 1.3718079483451242, 1.372112565764911, 1.3724171831846979, 1.3727218006044846, 1.3730264180242713, 1.373331035444058, 1.3821649406178738, 1.3824695580376605, 1.3827741754574474, 1.3830787928772341, 1.3833834102970208, 1.3836880277168075, 1.3699802438264037, 1.3702848612461904, 1.3705894786659774, 1.370894096085764, 1.3800326186793666, 1.3803372360991533, 1.38064185351894, 1.380946470938727, 1.3812510883585136, 1.3815557057783003, 1.3779002967408593, 1.378204914160646, 1.3785095315804328, 1.3788141490002195, 1.3791187664200064, 1.3794233838397931, 1.3757679748023521, 1.3760725922221388, 1.3763772096419256, 1.3766818270617123, 1.376986444481499, 1.3772910619012857, 1.373331035444058, 1.3736356528638447, 1.3739402702836316, 1.3742448877034183, 1.374549505123205, 1.3748541225429918, 1.3751587399627785, 1.3715033309253375, 1.3718079483451242, 1.372112565764911, 1.3724171831846979, 1.3727218006044846, 1.3730264180242713, 1.369675626406617, 1.3699802438264037, 1.3702848612461904, 1.3705894786659774]\n",
      "theta: 110.32226201857716 -- correct_answer: 109 -- FAIL\n",
      "[0.16887375760724205, 0.1691783750270288, 0.16948299244681553, 0.1697876098666023, 0.17009222728638904, 0.1703968447061758, 0.4868943438646108, 0.4871989612843975, 0.48750357870418426, 0.487808196123971, 0.48811281354375774, 0.4884174309635445, 0.489026665803118, 0.4981651883967206, 0.4984698058165073, 0.49877442323629406, 0.49938365807586754, 0.4996882754956543, 0.4999928929154411, 0.5002975103352278, 0.5006021277550146, 0.4884174309635445, 0.4887220483833313, 0.489026665803118, 0.48933128322290476, 0.4896359006426915, 0.4899405180624783, 0.490245135482265, 0.49054975290205177, 0.49085437032183854, 0.49115898774162525, 0.491463605161412, 0.4917682225811988, 0.49207284000098556, 0.49237745742077227, 0.49268207484055904, 0.4929866922603458, 0.4932913096801325, 0.4935959270999193, 0.48110661288866247, 0.48141123030844923, 0.48171584772823595, 0.4820204651480227, 0.4823250825678095, 0.48262969998759625, 0.48293431740738296, 0.48323893482716973, 0.4835435522469565, 0.4838481696667432]\n",
      "theta: 19.006635554220935 -- correct_answer: 18 -- FAIL\n",
      "[1.5707963267948966, 1.5711009442146833, 1.57140556163447, 1.5717101790542567, 1.5717101790542567, 1.5720147964740436, 1.5723194138938303, 1.572624031313617, 1.5729286487334038, 1.5732332661531905, 1.5735378835729772, 1.5735378835729772, 1.5738425009927641, 1.5741471184125508, 1.5744517358323376, 1.5747563532521243, 1.575060970671911, 1.5753655880916977, 1.5753655880916977, 1.5756702055114846, 1.5759748229312713, 1.576279440351058, 1.5765840577708448, 1.5768886751906315, 1.5771932926104184, 1.5771932926104184, 1.5774979100302051, 1.5778025274499918, 1.5781071448697785, 1.5784117622895653, 1.578716379709352, 1.579020997129139, 1.5707963267948966, 1.5711009442146833, 1.57140556163447, 1.5717101790542567, 1.578716379709352, 1.579020997129139, 1.5793256145489256, 1.5796302319687123, 1.579934849388499, 1.5802394668082858, 1.5805440842280725, 1.5808487016478594, 1.5717101790542567, 1.5720147964740436, 1.5723194138938303, 1.572624031313617, 1.5729286487334038, 1.5732332661531905, 1.5735378835729772, 1.5805440842280725, 1.5808487016478594, 1.5735378835729772, 1.5738425009927641, 1.5741471184125508, 1.5744517358323376, 1.5747563532521243, 1.575060970671911, 1.5753655880916977, 1.5753655880916977, 1.5756702055114846, 1.5759748229312713, 1.576279440351058, 1.5765840577708448, 1.5768886751906315, 1.5771932926104184, 1.5771932926104184, 1.5774979100302051, 1.5778025274499918, 1.5781071448697785, 1.5784117622895653, 1.578716379709352, 1.579020997129139, 1.578716379709352, 1.579020997129139, 1.5793256145489256, 1.5796302319687123, 1.579934849388499, 1.5802394668082858, 1.5805440842280725, 1.5808487016478594, 1.5805440842280725, 1.5808487016478594, 1.5811533190676461, 1.5701138886262995, 1.5704185060460862, 1.5707231234658732, 1.5679815666877923, 1.568286184107579, 1.5685908015273657, 1.5688954189471527, 1.5692000363669394, 1.569504653786726, 1.5698092712065128, 1.5661538621690718, 1.5664584795888585, 1.5667630970086452, 1.5670677144284322, 1.567372331848219, 1.5676769492680056, 1.5679815666877923, 1.5643261576503513, 1.564630775070138, 1.5649353924899247, 1.5652400099097115, 1.5655446273294984, 1.565849244749285, 1.5661538621690718, 1.5624984531316308, 1.5628030705514175, 1.5631076879712043, 1.563412305390991, 1.563716922810778, 1.5640215402305646, 1.5643261576503513, 1.560975366032697, 1.5612799834524838, 1.5615846008722705, 1.5618892182920574, 1.5621938357118441, 1.5624984531316308, 1.5628030705514175, 1.5701138886262995, 1.5704185060460862, 1.5707231234658732, 1.5606707486129103, 1.560975366032697, 1.5679815666877923, 1.568286184107579, 1.5685908015273657, 1.5688954189471527, 1.5692000363669394, 1.569504653786726, 1.5698092712065128, 1.5661538621690718, 1.5664584795888585, 1.5667630970086452, 1.5670677144284322, 1.567372331848219, 1.5676769492680056, 1.5679815666877923, 1.5643261576503513, 1.564630775070138, 1.5649353924899247, 1.5652400099097115, 1.5655446273294984, 1.565849244749285, 1.5661538621690718, 1.5624984531316308, 1.5628030705514175, 1.5631076879712043, 1.563412305390991, 1.563716922810778, 1.5640215402305646, 1.5643261576503513, 1.560975366032697, 1.5612799834524838, 1.5615846008722705, 1.5618892182920574, 1.5621938357118441, 1.5624984531316308, 1.5628030705514175, 1.5606707486129103, 1.560975366032697, -0.009936667807581177, -0.009632050387794425, -0.009327432968007674, -0.009022815548220922, -0.00871819812843417, -0.008413580708647419, -0.008108963288860667, -0.007804345869073915, -0.007499728449287164, -0.007195111029500412, -0.006890493609713661, -0.0065858761899269085, -0.006281258770140157, -0.0059766413503534056, -0.005672023930566654, -0.005367406510779903, -0.00506278909099315, -0.004758171671206399, -0.0044535542514196474, -0.004148936831632896, -0.003844319411846144, -0.004758171671206399, -0.0044535542514196474, -0.004148936831632896, -0.003844319411846144, -0.0035397019920593922, -0.003235084572272641, -0.002930467152485889, -0.0026258497326991375, -0.002321232312912386, -0.002016614893125634, -0.0017119974733388825, -0.0014073800535521308, -0.0011027626337653793, -0.0007981452139786276, -0.000493527794191876, -0.00018891037440512431, 0.00011570704538162732, 0.000420324465168379, 0.0007249418849551307, 0.0010295593047418823, 0.001334176724528634, 0.0016387941443153854, 0.001943411564102137, 0.0022480289838888888, 0.0025526464036756407, 0.002857263823462392, 0.0031618812432491436, 0.0034664986630358954, 0.003771116082822647, 0.004075733502609398, 0.004380350922396151, 0.004684968342182902, 0.0049895857619696535, 0.003771116082822647, 0.004075733502609398, 0.004380350922396151, 0.004684968342182902, 0.0049895857619696535, 0.005294203181756405, 0.005598820601543157, 0.005903438021329909, 0.00620805544111666, 0.006512672860903412, 0.006817290280690163, 0.007121907700476915, 0.007426525120263667, 0.007731142540050418, 0.00803575995983717, 0.008340377379623922, 0.008644994799410673, 0.008949612219197425, 0.009254229638984177, 0.009558847058770928, 0.00986346447855768, -0.009936667807581177, -0.009632050387794425, -0.009327432968007674, -0.009022815548220922, -0.00871819812843417, -0.008413580708647419, -0.008108963288860667, -0.007804345869073915, -0.007499728449287164, -0.007195111029500412, -0.006890493609713661, -0.0065858761899269085, -0.006281258770140157, -0.0059766413503534056, -0.005672023930566654, -0.005367406510779903, -0.00506278909099315, -0.004758171671206399, -0.0044535542514196474, -0.004148936831632896, -0.003844319411846144, -0.004758171671206399, -0.0044535542514196474, -0.004148936831632896, -0.003844319411846144, -0.0035397019920593922, -0.003235084572272641, -0.002930467152485889, -0.0026258497326991375, -0.002321232312912386, -0.002016614893125634, -0.0017119974733388825, -0.0014073800535521308, -0.0011027626337653793, -0.0007981452139786276, -0.000493527794191876, -0.00018891037440512431, 0.00011570704538162732, 0.000420324465168379, 0.0007249418849551307, 0.0010295593047418823, 0.001334176724528634, 0.0016387941443153854, 0.001943411564102137, 0.0022480289838888888, 0.0025526464036756407, 0.002857263823462392, 0.0031618812432491436, 0.0034664986630358954, 0.003771116082822647, 0.004075733502609398, 0.004380350922396151, 0.004684968342182902, 0.0049895857619696535, 0.003771116082822647, 0.004075733502609398, 0.004380350922396151, 0.004684968342182902, 0.0049895857619696535, 0.005294203181756405, 0.005598820601543157, 0.005903438021329909, 0.00620805544111666, 0.006512672860903412, 0.006817290280690163, 0.007121907700476915, 0.007426525120263667, 0.007731142540050418, 0.00803575995983717, 0.008340377379623922, 0.008644994799410673, 0.008949612219197425, 0.009254229638984177, 0.009558847058770928, 0.00986346447855768]\n",
      "theta: 91.16274107347607 -- correct_answer: 90 -- FAIL\n"
     ]
    }
   ],
   "source": [
    "dataset = pd.read_csv(\"Task1Dataset\\\\list.txt\")\n",
    "\n",
    "for (i, row) in enumerate(dataset.itertuples()):\n",
    "    filename, correct_answer = row.FileName, row.AngleInDegrees\n",
    "\n",
    "    # Read in image, importantly with intensity values 0-255 not 0-1\n",
    "    img = cv2.imread(f\"Task1Dataset\\\\{filename}\", cv2.IMREAD_GRAYSCALE)\n",
    "\n",
    "    edges = utils.canny(img, gauss_kernel_size=5, sigma=30, low_threshold=110, high_threshold=200)\n",
    "    # plt.imshow(img)\n",
    "    # plt.show()\n",
    "    accumulator, theta_range, rho_range = utils.hough_line(edges, theta_res= np.pi/180, rho_res=1)\n",
    "    hough_lines = utils.get_lines(accumulator, theta_range, rho_range, threshold=100)\n",
    "    \n",
    "    line_angles = []\n",
    "    for rho, theta in hough_lines:\n",
    "        # Handle whether the line is in the positive or negative x\n",
    "        if (rho < 0):\n",
    "            theta += np.pi\n",
    "\n",
    "        line_angles.append(theta)\n",
    "\n",
    "        #continue\n",
    "    print(line_angles)\n",
    "    if(len(line_angles) < 2):\n",
    "        print(f\"Skipping  - need at least 2 lines\")\n",
    "        #continue\n",
    "\n",
    "    # Calculate difference of angles and choose the smaller angle\n",
    "    angle1 = max(line_angles) - min(line_angles)\n",
    "    angle2 = (2 * np.pi) - angle1\n",
    "    angle_between_lines = min(angle1, angle2)\n",
    "    angle_between_lines = (np.rad2deg(angle_between_lines))\n",
    "\n",
    "    pass_fail_string = \"PASS\" if angle_between_lines == correct_answer else \"FAIL\"\n",
    "    print(f\"theta: {angle_between_lines} -- correct_answer: {correct_answer} -- {pass_fail_string}\")"
   ]
  },
  {
   "attachments": {},
   "cell_type": "markdown",
   "metadata": {},
   "source": [
    "# Test Canny Here"
   ]
  },
  {
   "cell_type": "code",
   "execution_count": 28,
   "metadata": {},
   "outputs": [
    {
     "name": "stderr",
     "output_type": "stream",
     "text": [
      "<string>:7: SyntaxWarning: invalid escape sequence '\\{'\n",
      "<>:3: SyntaxWarning: invalid escape sequence '\\l'\n",
      "<>:7: SyntaxWarning: invalid escape sequence '\\{'\n",
      "<string>:7: SyntaxWarning: invalid escape sequence '\\{'\n",
      "<>:3: SyntaxWarning: invalid escape sequence '\\l'\n",
      "<>:7: SyntaxWarning: invalid escape sequence '\\{'\n",
      "C:\\Users\\gs929\\AppData\\Local\\Temp\\ipykernel_13928\\385079902.py:3: SyntaxWarning: invalid escape sequence '\\l'\n",
      "  dataset = pd.read_csv(\"Task1Dataset\\list.txt\")\n",
      "C:\\Users\\gs929\\AppData\\Local\\Temp\\ipykernel_13928\\385079902.py:7: SyntaxWarning: invalid escape sequence '\\{'\n",
      "  img = cv2.imread(f\"Task1Dataset\\{filename}\", cv2.IMREAD_GRAYSCALE)\n"
     ]
    },
    {
     "data": {
      "image/png": "[encoded data removed]",
      "text/plain": [
       "<Figure size 640x480 with 1 Axes>"
      ]
     },
     "metadata": {},
     "output_type": "display_data"
    },
    {
     "name": "stdout",
     "output_type": "stream",
     "text": [
      "100387\n"
     ]
    },
    {
     "data": {
      "image/png": "[encoded data removed]",
      "text/plain": [
       "<Figure size 640x480 with 1 Axes>"
      ]
     },
     "metadata": {},
     "output_type": "display_data"
    },
    {
     "name": "stdout",
     "output_type": "stream",
     "text": [
      "157502\n"
     ]
    },
    {
     "data": {
      "image/png": "[encoded data removed]",
      "text/plain": [
       "<Figure size 640x480 with 1 Axes>"
      ]
     },
     "metadata": {},
     "output_type": "display_data"
    },
    {
     "name": "stdout",
     "output_type": "stream",
     "text": [
      "108838\n"
     ]
    },
    {
     "data": {
      "image/png": "[encoded data removed]",
      "text/plain": [
       "<Figure size 640x480 with 1 Axes>"
      ]
     },
     "metadata": {},
     "output_type": "display_data"
    },
    {
     "name": "stdout",
     "output_type": "stream",
     "text": [
      "111654\n"
     ]
    },
    {
     "data": {
      "image/png": "[encoded data removed]",
      "text/plain": [
       "<Figure size 640x480 with 1 Axes>"
      ]
     },
     "metadata": {},
     "output_type": "display_data"
    },
    {
     "name": "stdout",
     "output_type": "stream",
     "text": [
      "103718\n"
     ]
    },
    {
     "data": {
      "image/png": "[encoded data removed]",
      "text/plain": [
       "<Figure size 640x480 with 1 Axes>"
      ]
     },
     "metadata": {},
     "output_type": "display_data"
    },
    {
     "name": "stdout",
     "output_type": "stream",
     "text": [
      "179716\n"
     ]
    },
    {
     "name": "stderr",
     "output_type": "stream",
     "text": [
      "C:\\Users\\gs929\\AppData\\Local\\Temp\\ipykernel_13928\\385079902.py:3: SyntaxWarning: invalid escape sequence '\\l'\n",
      "  dataset = pd.read_csv(\"Task1Dataset\\list.txt\")\n",
      "C:\\Users\\gs929\\AppData\\Local\\Temp\\ipykernel_13928\\385079902.py:7: SyntaxWarning: invalid escape sequence '\\{'\n",
      "  img = cv2.imread(f\"Task1Dataset\\{filename}\", cv2.IMREAD_GRAYSCALE)\n"
     ]
    },
    {
     "ename": "KeyboardInterrupt",
     "evalue": "",
     "output_type": "error",
     "traceback": [
      "\u001b[1;31m---------------------------------------------------------------------------\u001b[0m",
      "\u001b[1;31mKeyboardInterrupt\u001b[0m                         Traceback (most recent call last)",
      "Cell \u001b[1;32mIn[28], line 8\u001b[0m\n\u001b[0;32m      6\u001b[0m filename, correct_answer \u001b[39m=\u001b[39m row\u001b[39m.\u001b[39mFileName, row\u001b[39m.\u001b[39mAngleInDegrees\n\u001b[0;32m      7\u001b[0m img \u001b[39m=\u001b[39m cv2\u001b[39m.\u001b[39mimread(\u001b[39mf\u001b[39m\u001b[39m\"\u001b[39m\u001b[39mTask1Dataset\u001b[39m\u001b[39m\\\u001b[39m\u001b[39m{\u001b[39;00mfilename\u001b[39m}\u001b[39;00m\u001b[39m\"\u001b[39m, cv2\u001b[39m.\u001b[39mIMREAD_GRAYSCALE)\n\u001b[1;32m----> 8\u001b[0m edges \u001b[39m=\u001b[39m utils\u001b[39m.\u001b[39;49mcanny(img, gauss_kernel_size\u001b[39m=\u001b[39;49m\u001b[39m5\u001b[39;49m, sigma\u001b[39m=\u001b[39;49m\u001b[39m20\u001b[39;49m, low_threshold\u001b[39m=\u001b[39;49m\u001b[39m70\u001b[39;49m, high_threshold\u001b[39m=\u001b[39;49m\u001b[39m110\u001b[39;49m)\n\u001b[0;32m      9\u001b[0m inbuilt_canny \u001b[39m=\u001b[39m cv2\u001b[39m.\u001b[39mCanny(img, threshold1\u001b[39m=\u001b[39m\u001b[39m70\u001b[39m, threshold2\u001b[39m=\u001b[39m\u001b[39m110\u001b[39m)\n\u001b[0;32m     10\u001b[0m plt\u001b[39m.\u001b[39mimshow(inbuilt_canny\u001b[39m-\u001b[39medges)\n",
      "File \u001b[1;32mc:\\Users\\gs929\\Downloads\\computer-vision\\utils.py:12\u001b[0m, in \u001b[0;36mcanny\u001b[1;34m(src, gauss_kernel_size, sigma, low_threshold, high_threshold)\u001b[0m\n\u001b[0;32m      9\u001b[0m img \u001b[39m=\u001b[39m non_max_suppression(magnitudes, dirs)\n\u001b[0;32m     11\u001b[0m \u001b[39m# Hystheresis Thresholding\u001b[39;00m\n\u001b[1;32m---> 12\u001b[0m img \u001b[39m=\u001b[39m hysteresis_thresholding(img, low_threshold, high_threshold)\n\u001b[0;32m     14\u001b[0m \u001b[39mreturn\u001b[39;00m img\n",
      "File \u001b[1;32mc:\\Users\\gs929\\Downloads\\computer-vision\\utils.py:128\u001b[0m, in \u001b[0;36mhysteresis_thresholding\u001b[1;34m(img, low_threshold, high_threshold)\u001b[0m\n\u001b[0;32m    126\u001b[0m \u001b[39mfor\u001b[39;00m i \u001b[39min\u001b[39;00m \u001b[39mrange\u001b[39m(\u001b[39m1\u001b[39m, M\u001b[39m-\u001b[39m\u001b[39m1\u001b[39m): \u001b[39m# <- we already have the indices of the weak edges, why not enumerate them rather than all pixels?\u001b[39;00m\n\u001b[0;32m    127\u001b[0m     \u001b[39mfor\u001b[39;00m j \u001b[39min\u001b[39;00m \u001b[39mrange\u001b[39m(\u001b[39m1\u001b[39m, N\u001b[39m-\u001b[39m\u001b[39m1\u001b[39m):\n\u001b[1;32m--> 128\u001b[0m         \u001b[39mif\u001b[39;00m (out[i, j] \u001b[39m==\u001b[39m \u001b[39m75\u001b[39m): \u001b[39m# <- should this be a copy? we are mutating the same array our condition is based off.\u001b[39;00m\n\u001b[0;32m    129\u001b[0m             \u001b[39mif\u001b[39;00m \u001b[39m255\u001b[39m \u001b[39min\u001b[39;00m neighbourhood(i,j):\n\u001b[0;32m    130\u001b[0m                 out[i, j] \u001b[39m=\u001b[39m \u001b[39m255\u001b[39m\n",
      "\u001b[1;31mKeyboardInterrupt\u001b[0m: "
     ]
    }
   ],
   "source": [
    "#images = []\n",
    "#answers = []\n",
    "dataset = pd.read_csv(\"Task1Dataset\\list.txt\")\n",
    "\n",
    "for (i, row) in enumerate(dataset.itertuples()):\n",
    "    filename, correct_answer = row.FileName, row.AngleInDegrees\n",
    "    img = cv2.imread(f\"Task1Dataset\\{filename}\", cv2.IMREAD_GRAYSCALE)\n",
    "    edges = utils.canny(img, gauss_kernel_size=5, sigma=20, low_threshold=70, high_threshold=110)\n",
    "    inbuilt_canny = cv2.Canny(img, threshold1=70, threshold2=110)\n",
    "    plt.imshow(inbuilt_canny-edges)\n",
    "    plt.show()\n",
    "    print(np.sum(inbuilt_canny-edges))\n",
    "    # images.append(edges)\n",
    "    # answers.append(correct_answer)"
   ]
  },
  {
   "attachments": {},
   "cell_type": "markdown",
   "metadata": {},
   "source": [
    "# Test params here in for loop"
   ]
  },
  {
   "cell_type": "code",
   "execution_count": 2,
   "metadata": {},
   "outputs": [],
   "source": [
    "images = []\n",
    "answers = []\n",
    "dataset = pd.read_csv(\"Task1Dataset\\list.txt\")\n",
    "\n",
    "for (i, row) in enumerate(dataset.itertuples()):\n",
    "    filename, correct_answer = row.FileName, row.AngleInDegrees\n",
    "    img = cv2.imread(f\"Task1Dataset\\{filename}\", cv2.IMREAD_GRAYSCALE)\n",
    "    edges = utils.canny(img, gauss_kernel_size=5, sigma=20, low_threshold=20, high_threshold=40)\n",
    "    images.append(edges)\n",
    "    answers.append(correct_answer)"
   ]
  },
  {
   "cell_type": "code",
   "execution_count": null,
   "metadata": {},
   "outputs": [
    {
     "ename": "",
     "evalue": "",
     "output_type": "error",
     "traceback": [
      "\u001b[1;31mCannot execute code, session has been disposed. Please try restarting the Kernel."
     ]
    },
    {
     "ename": "",
     "evalue": "",
     "output_type": "error",
     "traceback": [
      "\u001b[1;31mThe Kernel crashed while executing code in the the current cell or a previous cell. Please review the code in the cell(s) to identify a possible cause of the failure. Click <a href='https://aka.ms/vscodeJupyterKernelCrash'>here</a> for more info. View Jupyter <a href='command:jupyter.viewOutput'>log</a> for further details."
     ]
    }
   ],
   "source": [
    "thresholds = np.arange(0, 30, 1)\n",
    "thetas = np.arange(0, 10, 0.1)\n",
    "rhos =np.arange(0, 1, 0.01)\n",
    "num_failed = np.zeros((100, 30, 100))\n",
    "angle_fail = np.zeros((100, 30, 100, 10))\n",
    "good_params = []\n",
    "for m in rhos:\n",
    "    for k in thresholds:\n",
    "        for j in thetas:\n",
    "            for i in range(10):\n",
    "                accumulator, theta_range, rho_range = utils.hough_line(images[i], theta_res = j + 0.1, rho_res = m + 0.01)\n",
    "                hough_lines = utils.get_lines(accumulator, theta_range, rho_range, threshold = 80 + k)\n",
    "                \n",
    "                line_angles = []\n",
    "                for rho, theta in hough_lines:\n",
    "                    # Handle whether the line is in the positive or negative x\n",
    "                    if (rho < 0):\n",
    "                        theta += np.pi\n",
    "\n",
    "                    line_angles.append(theta)\n",
    "\n",
    "                if(len(line_angles) < 2):\n",
    "                    num_failed[k][int(j*2)] += 1\n",
    "                    angle_fail[k][int(j*2)][i] = np.inf\n",
    "                    continue\n",
    "\n",
    "                # Calculate difference of angles and choose the smaller angle\n",
    "                angle1 = max(line_angles) - min(line_angles)\n",
    "                angle2 = (2 * np.pi) - angle1\n",
    "                angle_between_lines = min(angle1, angle2)\n",
    "                angle_between_lines = np.round(np.rad2deg(angle_between_lines))\n",
    "\n",
    "                if angle_between_lines != answers[i]:\n",
    "                    num_failed[int(m*100)][k][int(j*10)] += 1\n",
    "                    angle_fail[int(m*100)][k][int(j*10)][i] = abs(angle_between_lines - answers[i])\n",
    "\n",
    "        if num_failed[int(m*100)][k][int(j*10)] == 0:\n",
    "            good_params.append(m, k+80, j+0.1)\n",
    "    \n",
    "            #print(i)   \n",
    "            # print(f\"theta: {angle_between_lines} -- correct_answer: {correct_answer} -- {pass_fail_string}\")"
   ]
  },
  {
   "cell_type": "code",
   "execution_count": 5,
   "metadata": {},
   "outputs": [
    {
     "data": {
      "text/plain": [
       "[]"
      ]
     },
     "execution_count": 5,
     "metadata": {},
     "output_type": "execute_result"
    }
   ],
   "source": [
    "good_params"
   ]
  },
  {
   "cell_type": "code",
   "execution_count": 7,
   "metadata": {},
   "outputs": [
    {
     "data": {
      "text/plain": [
       "array([[10., 10., 10., ...,  9.,  7.,  5.],\n",
       "       [10., 10., 10., ...,  8.,  7.,  5.],\n",
       "       [10., 10., 10., ...,  8.,  7.,  5.],\n",
       "       ...,\n",
       "       [10., 10., 10., ...,  6.,  7.,  5.],\n",
       "       [10., 10., 10., ...,  6.,  7.,  5.],\n",
       "       [10., 10., 10., ...,  6.,  7.,  5.]])"
      ]
     },
     "execution_count": 7,
     "metadata": {},
     "output_type": "execute_result"
    }
   ],
   "source": [
    "num_failed"
   ]
  },
  {
   "cell_type": "code",
   "execution_count": 17,
   "metadata": {},
   "outputs": [
    {
     "data": {
      "text/plain": [
       "array([[69., 70., 59., ...,  0.,  0.,  0.],\n",
       "       [66., 59., 59., ...,  0.,  0.,  0.],\n",
       "       [64., 51., 55., ...,  0.,  0.,  0.],\n",
       "       ...,\n",
       "       [32., 33., 25., ...,  0.,  0.,  0.],\n",
       "       [31., 31., 25., ...,  0.,  0.,  0.],\n",
       "       [31., 30., 23., ...,  0.,  0.,  0.]])"
      ]
     },
     "execution_count": 17,
     "metadata": {},
     "output_type": "execute_result"
    }
   ],
   "source": [
    "np.sum(angle_fail, 2)"
   ]
  },
  {
   "attachments": {},
   "cell_type": "markdown",
   "metadata": {},
   "source": [
    "## How to task1 <br>\n",
    "1. Preprocess: turn image to grayscale\n",
    "2. Edge detection (Canny) <b>NOT</b> using inbuilt function\n",
    "3. Line detection (Hough) <b>NOT</b> using inbuilf function\n",
    "4. We get the 2 equations of the lines in 2d space\n",
    "5. calculate angles\n"
   ]
  },
  {
   "cell_type": "code",
   "execution_count": 36,
   "metadata": {},
   "outputs": [],
   "source": [
    "def calculate_angle(line1, line2):\n",
    "    \"\"\"\n",
    "    Calculate angle between two lines.\n",
    "    \"\"\"\n",
    "    angle1 = np.arctan2(line1[0][3] - line1[0][1], line1[0][2] - line1[0][0])\n",
    "    angle2 = np.arctan2(line2[0][3] - line2[0][1], line2[0][2] - line2[0][0])\n",
    "    angle = np.degrees(angle1 - angle2)\n",
    "    np.round(angle)\n",
    "    return angle if angle >= 0 else angle + 180"
   ]
  },
  {
   "cell_type": "code",
   "execution_count": 37,
   "metadata": {},
   "outputs": [
    {
     "name": "stdout",
     "output_type": "stream",
     "text": [
      "theta: 90.0 -- correct_answer: 40 -- FAIL\n",
      "theta: 20.272068718820417 -- correct_answer: 20 -- FAIL\n",
      "theta: 0.0 -- correct_answer: 60 -- FAIL\n",
      "theta: 60.080791311442496 -- correct_answer: 120 -- FAIL\n",
      "theta: 0.06479587796116627 -- correct_answer: 53 -- FAIL\n",
      "theta: 0.0 -- correct_answer: 72 -- FAIL\n",
      "theta: 95.1539085612278 -- correct_answer: 95 -- FAIL\n",
      "theta: 179.88429360788047 -- correct_answer: 109 -- FAIL\n",
      "theta: 179.88429360788047 -- correct_answer: 18 -- FAIL\n",
      "theta: 90.0 -- correct_answer: 90 -- PASS\n"
     ]
    }
   ],
   "source": [
    "folderName = \"Task1Dataset\"\n",
    "dataset = pd.read_csv(folderName + \"\\list.txt\")\n",
    "\n",
    "# Empirically chosen thresholds for canny edge detection\n",
    "lower_threshold = 0.2 * 255\n",
    "upper_threshold = lower_threshold * 1.5\n",
    "\n",
    "for (i, row) in enumerate(dataset.itertuples()):\n",
    "    filename, correct_answer = row.FileName, row.AngleInDegrees\n",
    "\n",
    "    # Read in image, importantly with intensity values 0-255 not 0-1\n",
    "    img = cv2.imread(f\"{folderName}\\\\{filename}\")\n",
    "\n",
    "    # Convert to grayscale but store as colour image to keep opencv happy\n",
    "    gray_img = cv2.cvtColor(img, cv2.COLOR_RGB2GRAY)\n",
    "    #gray_img = cv2.cvtColor(gray_img, cv2.COLOR_GRAY2RGB)\n",
    "    gray_img = cv2.GaussianBlur(gray_img, (25,25), 2)\n",
    "    \n",
    "    # Detect edges with Canny edge detection\n",
    "    img_edges = cv2.Canny(gray_img, 70, 110)\n",
    "    plt.imshow(img_edges)\n",
    "    plt.show()\n",
    "\n",
    "    hough_lines = cv2.HoughLines(img_edges, rho=1, theta=np.deg2rad(5), threshold=90, lines=None, srn=0, stn=0)\n",
    "\n",
    "    line_angles = []\n",
    "    for line in hough_lines:\n",
    "        (rho, theta) = (line[0][0], line[0][1])\n",
    "        # Handle whether the line is in the positive or negative x\n",
    "        if (rho < 0):\n",
    "            theta += np.pi\n",
    "        line_angles.append(theta)\n",
    "\n",
    "    if(len(line_angles) < 2):\n",
    "        print(f\"Skipping {filename} - need at least 2 lines\")\n",
    "        continue\n",
    "    \n",
    "    # Calculate difference of angles and choose the smaller angle\n",
    "    angle1 = max(line_angles) - min(line_angles)\n",
    "    angle2 = (2 * np.pi) - angle1\n",
    "    angle_between_lines = min(angle1, angle2)\n",
    "    angle_between_lines = np.round(np.rad2deg(angle_between_lines))\n",
    "\n",
    "    pass_fail_string = \"PASS\" if angle_between_lines == correct_answer else \"FAIL\"\n",
    "    print(f\"theta: {angle_between_lines} -- correct_answer: {correct_answer} -- {pass_fail_string}\")\n",
    "\n",
    "    # plt.imshow(img_edges)\n",
    "    # plt.show()"
   ]
  },
  {
   "cell_type": "code",
   "execution_count": 3,
   "metadata": {},
   "outputs": [
    {
     "data": {
      "text/html": [
       "<div>\n",
       "<style scoped>\n",
       "    .dataframe tbody tr th:only-of-type {\n",
       "        vertical-align: middle;\n",
       "    }\n",
       "\n",
       "    .dataframe tbody tr th {\n",
       "        vertical-align: top;\n",
       "    }\n",
       "\n",
       "    .dataframe thead th {\n",
       "        text-align: right;\n",
       "    }\n",
       "</style>\n",
       "<table border=\"1\" class=\"dataframe\">\n",
       "  <thead>\n",
       "    <tr style=\"text-align: right;\">\n",
       "      <th></th>\n",
       "      <th>FileName</th>\n",
       "      <th>AngleInDegrees</th>\n",
       "    </tr>\n",
       "  </thead>\n",
       "  <tbody>\n",
       "    <tr>\n",
       "      <th>0</th>\n",
       "      <td>image1.png</td>\n",
       "      <td>40</td>\n",
       "    </tr>\n",
       "    <tr>\n",
       "      <th>1</th>\n",
       "      <td>image2.png</td>\n",
       "      <td>20</td>\n",
       "    </tr>\n",
       "    <tr>\n",
       "      <th>2</th>\n",
       "      <td>image3.png</td>\n",
       "      <td>60</td>\n",
       "    </tr>\n",
       "    <tr>\n",
       "      <th>3</th>\n",
       "      <td>image4.png</td>\n",
       "      <td>120</td>\n",
       "    </tr>\n",
       "    <tr>\n",
       "      <th>4</th>\n",
       "      <td>image5.png</td>\n",
       "      <td>53</td>\n",
       "    </tr>\n",
       "    <tr>\n",
       "      <th>5</th>\n",
       "      <td>image6.png</td>\n",
       "      <td>72</td>\n",
       "    </tr>\n",
       "    <tr>\n",
       "      <th>6</th>\n",
       "      <td>image7.png</td>\n",
       "      <td>95</td>\n",
       "    </tr>\n",
       "    <tr>\n",
       "      <th>7</th>\n",
       "      <td>image8.png</td>\n",
       "      <td>109</td>\n",
       "    </tr>\n",
       "    <tr>\n",
       "      <th>8</th>\n",
       "      <td>image9.png</td>\n",
       "      <td>18</td>\n",
       "    </tr>\n",
       "    <tr>\n",
       "      <th>9</th>\n",
       "      <td>image10.png</td>\n",
       "      <td>90</td>\n",
       "    </tr>\n",
       "  </tbody>\n",
       "</table>\n",
       "</div>"
      ],
      "text/plain": [
       "      FileName  AngleInDegrees\n",
       "0   image1.png              40\n",
       "1   image2.png              20\n",
       "2   image3.png              60\n",
       "3   image4.png             120\n",
       "4   image5.png              53\n",
       "5   image6.png              72\n",
       "6   image7.png              95\n",
       "7   image8.png             109\n",
       "8   image9.png              18\n",
       "9  image10.png              90"
      ]
     },
     "execution_count": 3,
     "metadata": {},
     "output_type": "execute_result"
    }
   ],
   "source": [
    "dataset"
   ]
  },
  {
   "attachments": {},
   "cell_type": "markdown",
   "metadata": {},
   "source": [
    "## What to ask <br>\n",
    "1. Do we need to implement grayscale? No\n",
    "2. Is Guassian Blur necessary?\n",
    "3. How to de find good parameters?\n",
    "4. What are good parameters?\n",
    "5. We have to implement Canny and Hough, right?\n",
    "\n",
    "loading and graycale functions are ok\n",
    "gaussian blur and convolution are not ok"
   ]
  },
  {
   "cell_type": "code",
   "execution_count": null,
   "metadata": {},
   "outputs": [],
   "source": []
  }
 ],
 "metadata": {
  "kernelspec": {
   "display_name": "Python 3",
   "language": "python",
   "name": "python3"
  },
  "language_info": {
   "codemirror_mode": {
    "name": "ipython",
    "version": 3
   },
   "file_extension": ".py",
   "mimetype": "text/x-python",
   "name": "python",
   "nbconvert_exporter": "python",
   "pygments_lexer": "ipython3",
   "version": "3.12.2"
  }
 },
 "nbformat": 4,
 "nbformat_minor": 2
}
