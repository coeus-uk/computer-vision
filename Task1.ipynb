{
 "cells": [
  {
   "cell_type": "markdown",
   "metadata": {},
   "source": [
    "# Task 1"
   ]
  },
  {
   "cell_type": "code",
   "execution_count": 3,
   "metadata": {},
   "outputs": [],
   "source": [
    "import pandas as pd\n",
    "import numpy as np\n",
    "import cv2\n",
    "import matplotlib\n",
    "import matplotlib.pyplot as plt\n",
    "import math"
   ]
  },
  {
   "cell_type": "markdown",
   "metadata": {},
   "source": [
    "## How to task1 <br>\n",
    "1. Preprocess: turn image to grayscale\n",
    "2. Edge detection (Canny) <b>NOT</b> using inbuilt function\n",
    "3. Line detection (Hough) <b>NOT</b> using inbuilf function\n",
    "4. We get the 2 equations of the lines in 2d space\n",
    "5. calculate angles\n"
   ]
  },
  {
   "cell_type": "code",
   "execution_count": 4,
   "metadata": {},
   "outputs": [
    {
     "name": "stdout",
     "output_type": "stream",
     "text": [
      "Skipping image1.png - need at least 2 lines\n",
      "theta: 20.0 -- correct_answer: 20 -- PASS\n",
      "theta: 60.0 -- correct_answer: 60 -- PASS\n",
      "theta: 120.0 -- correct_answer: 120 -- PASS\n",
      "theta: 0.0 -- correct_answer: 53 -- FAIL\n",
      "theta: 0.0 -- correct_answer: 72 -- FAIL\n",
      "theta: 95.0 -- correct_answer: 95 -- PASS\n",
      "theta: 0.0 -- correct_answer: 109 -- FAIL\n",
      "Skipping image9.png - need at least 2 lines\n",
      "theta: 90.0 -- correct_answer: 90 -- PASS\n"
     ]
    }
   ],
   "source": [
    "folderName = \"Task1Dataset\"\n",
    "dataset = pd.read_csv(folderName + \"\\list.txt\")\n",
    "\n",
    "# Empirically chosen thresholds for canny edge detection\n",
    "lower_threshold = 0.2 * 255\n",
    "upper_threshold = lower_threshold * 1.5\n",
    "\n",
    "for (i, row) in enumerate(dataset.itertuples()):\n",
    "    filename, correct_answer = row.FileName, row.AngleInDegrees\n",
    "\n",
    "    # Read in image, importantly with intensity values 0-255 not 0-1\n",
    "    img = cv2.imread(f\"{folderName}\\\\{filename}\")\n",
    "\n",
    "    # Convert to grayscale but store as colour image to keep opencv happy\n",
    "    gray_img = cv2.cvtColor(img, cv2.COLOR_RGB2GRAY)\n",
    "    gray_img = cv2.cvtColor(gray_img, cv2.COLOR_GRAY2RGB)\n",
    "    \n",
    "    # Detect edges with Canny edge detection\n",
    "    img_edges = cv2.Canny(gray_img, lower_threshold, upper_threshold)\n",
    "\n",
    "    hough_lines = cv2.HoughLines(img_edges, rho=1, theta=np.deg2rad(5), threshold=100, lines=None, srn=0, stn=0)\n",
    "\n",
    "    line_angles = []\n",
    "    for line in hough_lines:\n",
    "        (rho, theta) = (line[0][0], line[0][1])\n",
    "        # Handle whether the line is in the positive or negative x\n",
    "        if (rho < 0):\n",
    "            theta += np.pi\n",
    "        line_angles.append(theta)\n",
    "\n",
    "    if(len(line_angles) < 2):\n",
    "        print(f\"Skipping {filename} - need at least 2 lines\")\n",
    "        continue\n",
    "    \n",
    "    # Calculate difference of angles and choose the smaller angle\n",
    "    angle1 = max(line_angles) - min(line_angles)\n",
    "    angle2 = (2 * np.pi) - angle1\n",
    "    angle_between_lines = min(angle1, angle2)\n",
    "    angle_between_lines = np.round(np.rad2deg(angle_between_lines))\n",
    "\n",
    "    pass_fail_string = \"PASS\" if angle_between_lines == correct_answer else \"FAIL\"\n",
    "    print(f\"theta: {angle_between_lines} -- correct_answer: {correct_answer} -- {pass_fail_string}\")\n",
    "\n",
    "    # plt.imshow(img_edges)\n",
    "    # plt.show()"
   ]
  },
  {
   "cell_type": "code",
   "execution_count": 5,
   "metadata": {},
   "outputs": [
    {
     "data": {
      "text/html": [
       "<div>\n",
       "<style scoped>\n",
       "    .dataframe tbody tr th:only-of-type {\n",
       "        vertical-align: middle;\n",
       "    }\n",
       "\n",
       "    .dataframe tbody tr th {\n",
       "        vertical-align: top;\n",
       "    }\n",
       "\n",
       "    .dataframe thead th {\n",
       "        text-align: right;\n",
       "    }\n",
       "</style>\n",
       "<table border=\"1\" class=\"dataframe\">\n",
       "  <thead>\n",
       "    <tr style=\"text-align: right;\">\n",
       "      <th></th>\n",
       "      <th>FileName</th>\n",
       "      <th>AngleInDegrees</th>\n",
       "    </tr>\n",
       "  </thead>\n",
       "  <tbody>\n",
       "    <tr>\n",
       "      <th>0</th>\n",
       "      <td>image1.png</td>\n",
       "      <td>40</td>\n",
       "    </tr>\n",
       "    <tr>\n",
       "      <th>1</th>\n",
       "      <td>image2.png</td>\n",
       "      <td>20</td>\n",
       "    </tr>\n",
       "    <tr>\n",
       "      <th>2</th>\n",
       "      <td>image3.png</td>\n",
       "      <td>60</td>\n",
       "    </tr>\n",
       "    <tr>\n",
       "      <th>3</th>\n",
       "      <td>image4.png</td>\n",
       "      <td>120</td>\n",
       "    </tr>\n",
       "    <tr>\n",
       "      <th>4</th>\n",
       "      <td>image5.png</td>\n",
       "      <td>53</td>\n",
       "    </tr>\n",
       "    <tr>\n",
       "      <th>5</th>\n",
       "      <td>image6.png</td>\n",
       "      <td>72</td>\n",
       "    </tr>\n",
       "    <tr>\n",
       "      <th>6</th>\n",
       "      <td>image7.png</td>\n",
       "      <td>95</td>\n",
       "    </tr>\n",
       "    <tr>\n",
       "      <th>7</th>\n",
       "      <td>image8.png</td>\n",
       "      <td>109</td>\n",
       "    </tr>\n",
       "    <tr>\n",
       "      <th>8</th>\n",
       "      <td>image9.png</td>\n",
       "      <td>18</td>\n",
       "    </tr>\n",
       "    <tr>\n",
       "      <th>9</th>\n",
       "      <td>image10.png</td>\n",
       "      <td>90</td>\n",
       "    </tr>\n",
       "  </tbody>\n",
       "</table>\n",
       "</div>"
      ],
      "text/plain": [
       "      FileName  AngleInDegrees\n",
       "0   image1.png              40\n",
       "1   image2.png              20\n",
       "2   image3.png              60\n",
       "3   image4.png             120\n",
       "4   image5.png              53\n",
       "5   image6.png              72\n",
       "6   image7.png              95\n",
       "7   image8.png             109\n",
       "8   image9.png              18\n",
       "9  image10.png              90"
      ]
     },
     "execution_count": 5,
     "metadata": {},
     "output_type": "execute_result"
    }
   ],
   "source": [
    "dataset"
   ]
  },
  {
   "cell_type": "code",
   "execution_count": null,
   "metadata": {},
   "outputs": [],
   "source": []
  },
  {
   "cell_type": "code",
   "execution_count": null,
   "metadata": {},
   "outputs": [],
   "source": []
  }
 ],
 "metadata": {
  "kernelspec": {
   "display_name": "Python 3",
   "language": "python",
   "name": "python3"
  },
  "language_info": {
   "codemirror_mode": {
    "name": "ipython",
    "version": 3
   },
   "file_extension": ".py",
   "mimetype": "text/x-python",
   "name": "python",
   "nbconvert_exporter": "python",
   "pygments_lexer": "ipython3",
   "version": "3.11.3"
  }
 },
 "nbformat": 4,
 "nbformat_minor": 2
}
